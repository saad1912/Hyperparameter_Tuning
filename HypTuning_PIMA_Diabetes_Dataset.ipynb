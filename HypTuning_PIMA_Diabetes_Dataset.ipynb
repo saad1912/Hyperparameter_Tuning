{
 "cells": [
  {
   "cell_type": "code",
   "execution_count": 3,
   "id": "3f461f73-8105-4be6-8ba1-3148bd1827a7",
   "metadata": {},
   "outputs": [],
   "source": [
    "import warnings\n",
    "warnings.filterwarnings(\"ignore\")"
   ]
  },
  {
   "cell_type": "code",
   "execution_count": 2,
   "id": "bcc6d807-eb1d-4825-8a81-526a42e4e697",
   "metadata": {},
   "outputs": [],
   "source": [
    "import pandas as pd\n",
    "import numpy as np"
   ]
  },
  {
   "cell_type": "code",
   "execution_count": 4,
   "id": "76668e54-b2ec-459b-a847-673f547b8bbb",
   "metadata": {},
   "outputs": [
    {
     "name": "stdout",
     "output_type": "stream",
     "text": [
      "(768, 9)\n"
     ]
    },
    {
     "data": {
      "text/html": [
       "<div>\n",
       "<style scoped>\n",
       "    .dataframe tbody tr th:only-of-type {\n",
       "        vertical-align: middle;\n",
       "    }\n",
       "\n",
       "    .dataframe tbody tr th {\n",
       "        vertical-align: top;\n",
       "    }\n",
       "\n",
       "    .dataframe thead th {\n",
       "        text-align: right;\n",
       "    }\n",
       "</style>\n",
       "<table border=\"1\" class=\"dataframe\">\n",
       "  <thead>\n",
       "    <tr style=\"text-align: right;\">\n",
       "      <th></th>\n",
       "      <th>Pregnancies</th>\n",
       "      <th>Glucose</th>\n",
       "      <th>BloodPressure</th>\n",
       "      <th>SkinThickness</th>\n",
       "      <th>Insulin</th>\n",
       "      <th>BMI</th>\n",
       "      <th>DiabetesPedigreeFunction</th>\n",
       "      <th>Age</th>\n",
       "      <th>Outcome</th>\n",
       "    </tr>\n",
       "  </thead>\n",
       "  <tbody>\n",
       "    <tr>\n",
       "      <th>0</th>\n",
       "      <td>6</td>\n",
       "      <td>148</td>\n",
       "      <td>72</td>\n",
       "      <td>35</td>\n",
       "      <td>0</td>\n",
       "      <td>33.6</td>\n",
       "      <td>0.627</td>\n",
       "      <td>50</td>\n",
       "      <td>1</td>\n",
       "    </tr>\n",
       "    <tr>\n",
       "      <th>1</th>\n",
       "      <td>1</td>\n",
       "      <td>85</td>\n",
       "      <td>66</td>\n",
       "      <td>29</td>\n",
       "      <td>0</td>\n",
       "      <td>26.6</td>\n",
       "      <td>0.351</td>\n",
       "      <td>31</td>\n",
       "      <td>0</td>\n",
       "    </tr>\n",
       "    <tr>\n",
       "      <th>2</th>\n",
       "      <td>8</td>\n",
       "      <td>183</td>\n",
       "      <td>64</td>\n",
       "      <td>0</td>\n",
       "      <td>0</td>\n",
       "      <td>23.3</td>\n",
       "      <td>0.672</td>\n",
       "      <td>32</td>\n",
       "      <td>1</td>\n",
       "    </tr>\n",
       "    <tr>\n",
       "      <th>3</th>\n",
       "      <td>1</td>\n",
       "      <td>89</td>\n",
       "      <td>66</td>\n",
       "      <td>23</td>\n",
       "      <td>94</td>\n",
       "      <td>28.1</td>\n",
       "      <td>0.167</td>\n",
       "      <td>21</td>\n",
       "      <td>0</td>\n",
       "    </tr>\n",
       "    <tr>\n",
       "      <th>4</th>\n",
       "      <td>0</td>\n",
       "      <td>137</td>\n",
       "      <td>40</td>\n",
       "      <td>35</td>\n",
       "      <td>168</td>\n",
       "      <td>43.1</td>\n",
       "      <td>2.288</td>\n",
       "      <td>33</td>\n",
       "      <td>1</td>\n",
       "    </tr>\n",
       "  </tbody>\n",
       "</table>\n",
       "</div>"
      ],
      "text/plain": [
       "   Pregnancies  Glucose  BloodPressure  SkinThickness  Insulin   BMI  \\\n",
       "0            6      148             72             35        0  33.6   \n",
       "1            1       85             66             29        0  26.6   \n",
       "2            8      183             64              0        0  23.3   \n",
       "3            1       89             66             23       94  28.1   \n",
       "4            0      137             40             35      168  43.1   \n",
       "\n",
       "   DiabetesPedigreeFunction  Age  Outcome  \n",
       "0                     0.627   50        1  \n",
       "1                     0.351   31        0  \n",
       "2                     0.672   32        1  \n",
       "3                     0.167   21        0  \n",
       "4                     2.288   33        1  "
      ]
     },
     "execution_count": 4,
     "metadata": {},
     "output_type": "execute_result"
    }
   ],
   "source": [
    "#Importing PIMA Diabetes dataset\n",
    "df = pd.read_csv(\"diabetes.csv\")\n",
    "print(df.shape)\n",
    "df.head()\n"
   ]
  },
  {
   "cell_type": "code",
   "execution_count": 5,
   "id": "86f98045-a043-42e5-9354-5a29a3295b1c",
   "metadata": {},
   "outputs": [
    {
     "name": "stdout",
     "output_type": "stream",
     "text": [
      "<class 'pandas.core.frame.DataFrame'>\n",
      "RangeIndex: 768 entries, 0 to 767\n",
      "Data columns (total 9 columns):\n",
      " #   Column                    Non-Null Count  Dtype  \n",
      "---  ------                    --------------  -----  \n",
      " 0   Pregnancies               768 non-null    int64  \n",
      " 1   Glucose                   768 non-null    int64  \n",
      " 2   BloodPressure             768 non-null    int64  \n",
      " 3   SkinThickness             768 non-null    int64  \n",
      " 4   Insulin                   768 non-null    int64  \n",
      " 5   BMI                       768 non-null    float64\n",
      " 6   DiabetesPedigreeFunction  768 non-null    float64\n",
      " 7   Age                       768 non-null    int64  \n",
      " 8   Outcome                   768 non-null    int64  \n",
      "dtypes: float64(2), int64(7)\n",
      "memory usage: 54.1 KB\n"
     ]
    }
   ],
   "source": [
    "df.info()"
   ]
  },
  {
   "cell_type": "code",
   "execution_count": 6,
   "id": "f4093585-0fe1-4f02-b8f4-db59fb7ec592",
   "metadata": {},
   "outputs": [
    {
     "data": {
      "text/plain": [
       "Pregnancies                 0\n",
       "Glucose                     0\n",
       "BloodPressure               0\n",
       "SkinThickness               0\n",
       "Insulin                     0\n",
       "BMI                         0\n",
       "DiabetesPedigreeFunction    0\n",
       "Age                         0\n",
       "Outcome                     0\n",
       "dtype: int64"
      ]
     },
     "execution_count": 6,
     "metadata": {},
     "output_type": "execute_result"
    }
   ],
   "source": [
    "df.isnull().sum()"
   ]
  },
  {
   "cell_type": "code",
   "execution_count": 11,
   "id": "b93bbfd7-279e-4bf3-85a6-cc6f75bf33ff",
   "metadata": {},
   "outputs": [
    {
     "data": {
      "text/plain": [
       "True"
      ]
     },
     "execution_count": 11,
     "metadata": {},
     "output_type": "execute_result"
    }
   ],
   "source": [
    "any(df['Glucose'].value_counts().keys()==0)"
   ]
  },
  {
   "cell_type": "code",
   "execution_count": 13,
   "id": "838d2e94-ce9d-4c22-9760-facb7197ed6c",
   "metadata": {},
   "outputs": [
    {
     "data": {
      "text/plain": [
       "(5, 9)"
      ]
     },
     "execution_count": 13,
     "metadata": {},
     "output_type": "execute_result"
    }
   ],
   "source": [
    "df[df['Glucose']==0].shape"
   ]
  },
  {
   "cell_type": "code",
   "execution_count": 7,
   "id": "02cb8e54-7b75-4ebe-a0b7-8bdfe17c50e6",
   "metadata": {},
   "outputs": [],
   "source": [
    "df['Glucose'] = np.where(df['Glucose']==0,df['Glucose'].median(),df['Glucose'])\n",
    "df['Insulin'] = np.where(df['Insulin']==0,df['Insulin'].median(),df['Insulin'])\n",
    "df['SkinThickness'] = np.where(df['SkinThickness']==0,df['SkinThickness'].median(),df['SkinThickness'])\n"
   ]
  },
  {
   "cell_type": "code",
   "execution_count": 8,
   "id": "d7ddf2e8-633d-4491-b820-e62dd0a4a3a9",
   "metadata": {},
   "outputs": [
    {
     "name": "stdout",
     "output_type": "stream",
     "text": [
      "False\n",
      "False\n",
      "False\n"
     ]
    }
   ],
   "source": [
    "print(any(df['Glucose'].value_counts().keys()==0))\n",
    "print(any(df['Insulin'].value_counts().keys()==0))\n",
    "print(any(df['SkinThickness'].value_counts().keys()==0))"
   ]
  },
  {
   "cell_type": "code",
   "execution_count": 16,
   "id": "256569fc-f7cd-4b45-8050-defcb9940891",
   "metadata": {},
   "outputs": [
    {
     "data": {
      "text/plain": [
       "(0, 9)"
      ]
     },
     "execution_count": 16,
     "metadata": {},
     "output_type": "execute_result"
    }
   ],
   "source": [
    "df[df['Glucose']==0].shape"
   ]
  },
  {
   "cell_type": "code",
   "execution_count": 23,
   "id": "b8b8a25e-c20d-4bb0-a47c-7ea8e2e0da85",
   "metadata": {},
   "outputs": [
    {
     "data": {
      "text/html": [
       "<div>\n",
       "<style scoped>\n",
       "    .dataframe tbody tr th:only-of-type {\n",
       "        vertical-align: middle;\n",
       "    }\n",
       "\n",
       "    .dataframe tbody tr th {\n",
       "        vertical-align: top;\n",
       "    }\n",
       "\n",
       "    .dataframe thead th {\n",
       "        text-align: right;\n",
       "    }\n",
       "</style>\n",
       "<table border=\"1\" class=\"dataframe\">\n",
       "  <thead>\n",
       "    <tr style=\"text-align: right;\">\n",
       "      <th></th>\n",
       "      <th>Pregnancies</th>\n",
       "      <th>Glucose</th>\n",
       "      <th>BloodPressure</th>\n",
       "      <th>SkinThickness</th>\n",
       "      <th>Insulin</th>\n",
       "      <th>BMI</th>\n",
       "      <th>DiabetesPedigreeFunction</th>\n",
       "      <th>Age</th>\n",
       "      <th>Outcome</th>\n",
       "    </tr>\n",
       "  </thead>\n",
       "  <tbody>\n",
       "    <tr>\n",
       "      <th>2</th>\n",
       "      <td>8</td>\n",
       "      <td>183.0</td>\n",
       "      <td>64</td>\n",
       "      <td>0</td>\n",
       "      <td>30.5</td>\n",
       "      <td>23.3</td>\n",
       "      <td>0.672</td>\n",
       "      <td>32</td>\n",
       "      <td>1</td>\n",
       "    </tr>\n",
       "    <tr>\n",
       "      <th>5</th>\n",
       "      <td>5</td>\n",
       "      <td>116.0</td>\n",
       "      <td>74</td>\n",
       "      <td>0</td>\n",
       "      <td>30.5</td>\n",
       "      <td>25.6</td>\n",
       "      <td>0.201</td>\n",
       "      <td>30</td>\n",
       "      <td>0</td>\n",
       "    </tr>\n",
       "    <tr>\n",
       "      <th>7</th>\n",
       "      <td>10</td>\n",
       "      <td>115.0</td>\n",
       "      <td>0</td>\n",
       "      <td>0</td>\n",
       "      <td>30.5</td>\n",
       "      <td>35.3</td>\n",
       "      <td>0.134</td>\n",
       "      <td>29</td>\n",
       "      <td>0</td>\n",
       "    </tr>\n",
       "    <tr>\n",
       "      <th>9</th>\n",
       "      <td>8</td>\n",
       "      <td>125.0</td>\n",
       "      <td>96</td>\n",
       "      <td>0</td>\n",
       "      <td>30.5</td>\n",
       "      <td>0.0</td>\n",
       "      <td>0.232</td>\n",
       "      <td>54</td>\n",
       "      <td>1</td>\n",
       "    </tr>\n",
       "    <tr>\n",
       "      <th>10</th>\n",
       "      <td>4</td>\n",
       "      <td>110.0</td>\n",
       "      <td>92</td>\n",
       "      <td>0</td>\n",
       "      <td>30.5</td>\n",
       "      <td>37.6</td>\n",
       "      <td>0.191</td>\n",
       "      <td>30</td>\n",
       "      <td>0</td>\n",
       "    </tr>\n",
       "    <tr>\n",
       "      <th>...</th>\n",
       "      <td>...</td>\n",
       "      <td>...</td>\n",
       "      <td>...</td>\n",
       "      <td>...</td>\n",
       "      <td>...</td>\n",
       "      <td>...</td>\n",
       "      <td>...</td>\n",
       "      <td>...</td>\n",
       "      <td>...</td>\n",
       "    </tr>\n",
       "    <tr>\n",
       "      <th>757</th>\n",
       "      <td>0</td>\n",
       "      <td>123.0</td>\n",
       "      <td>72</td>\n",
       "      <td>0</td>\n",
       "      <td>30.5</td>\n",
       "      <td>36.3</td>\n",
       "      <td>0.258</td>\n",
       "      <td>52</td>\n",
       "      <td>1</td>\n",
       "    </tr>\n",
       "    <tr>\n",
       "      <th>758</th>\n",
       "      <td>1</td>\n",
       "      <td>106.0</td>\n",
       "      <td>76</td>\n",
       "      <td>0</td>\n",
       "      <td>30.5</td>\n",
       "      <td>37.5</td>\n",
       "      <td>0.197</td>\n",
       "      <td>26</td>\n",
       "      <td>0</td>\n",
       "    </tr>\n",
       "    <tr>\n",
       "      <th>759</th>\n",
       "      <td>6</td>\n",
       "      <td>190.0</td>\n",
       "      <td>92</td>\n",
       "      <td>0</td>\n",
       "      <td>30.5</td>\n",
       "      <td>35.5</td>\n",
       "      <td>0.278</td>\n",
       "      <td>66</td>\n",
       "      <td>1</td>\n",
       "    </tr>\n",
       "    <tr>\n",
       "      <th>762</th>\n",
       "      <td>9</td>\n",
       "      <td>89.0</td>\n",
       "      <td>62</td>\n",
       "      <td>0</td>\n",
       "      <td>30.5</td>\n",
       "      <td>22.5</td>\n",
       "      <td>0.142</td>\n",
       "      <td>33</td>\n",
       "      <td>0</td>\n",
       "    </tr>\n",
       "    <tr>\n",
       "      <th>766</th>\n",
       "      <td>1</td>\n",
       "      <td>126.0</td>\n",
       "      <td>60</td>\n",
       "      <td>0</td>\n",
       "      <td>30.5</td>\n",
       "      <td>30.1</td>\n",
       "      <td>0.349</td>\n",
       "      <td>47</td>\n",
       "      <td>1</td>\n",
       "    </tr>\n",
       "  </tbody>\n",
       "</table>\n",
       "<p>227 rows × 9 columns</p>\n",
       "</div>"
      ],
      "text/plain": [
       "     Pregnancies  Glucose  BloodPressure  SkinThickness  Insulin   BMI  \\\n",
       "2              8    183.0             64              0     30.5  23.3   \n",
       "5              5    116.0             74              0     30.5  25.6   \n",
       "7             10    115.0              0              0     30.5  35.3   \n",
       "9              8    125.0             96              0     30.5   0.0   \n",
       "10             4    110.0             92              0     30.5  37.6   \n",
       "..           ...      ...            ...            ...      ...   ...   \n",
       "757            0    123.0             72              0     30.5  36.3   \n",
       "758            1    106.0             76              0     30.5  37.5   \n",
       "759            6    190.0             92              0     30.5  35.5   \n",
       "762            9     89.0             62              0     30.5  22.5   \n",
       "766            1    126.0             60              0     30.5  30.1   \n",
       "\n",
       "     DiabetesPedigreeFunction  Age  Outcome  \n",
       "2                       0.672   32        1  \n",
       "5                       0.201   30        0  \n",
       "7                       0.134   29        0  \n",
       "9                       0.232   54        1  \n",
       "10                      0.191   30        0  \n",
       "..                        ...  ...      ...  \n",
       "757                     0.258   52        1  \n",
       "758                     0.197   26        0  \n",
       "759                     0.278   66        1  \n",
       "762                     0.142   33        0  \n",
       "766                     0.349   47        1  \n",
       "\n",
       "[227 rows x 9 columns]"
      ]
     },
     "execution_count": 23,
     "metadata": {},
     "output_type": "execute_result"
    }
   ],
   "source": [
    "df[df['SkinThickness']==0]"
   ]
  },
  {
   "cell_type": "markdown",
   "id": "2141b081-93eb-407a-895b-9745eda8ff0e",
   "metadata": {},
   "source": [
    "**No need to do scaling as we are going to use Random Forest Classifier. It won't have any impact**"
   ]
  },
  {
   "cell_type": "markdown",
   "id": "dbcf79db-4935-4bd2-bfd6-a4e472973544",
   "metadata": {},
   "source": [
    "### Split dataset for X and Y"
   ]
  },
  {
   "cell_type": "code",
   "execution_count": 9,
   "id": "3ad16bbd-a074-4718-aa87-12b7b7158bfa",
   "metadata": {},
   "outputs": [
    {
     "data": {
      "text/plain": [
       "((768, 8), (768,))"
      ]
     },
     "execution_count": 9,
     "metadata": {},
     "output_type": "execute_result"
    }
   ],
   "source": [
    "X = df.drop('Outcome', axis=1)\n",
    "y = df['Outcome']\n",
    "X.shape,y.shape"
   ]
  },
  {
   "cell_type": "code",
   "execution_count": 27,
   "id": "32dfb120-707f-4af8-9b24-38d13e3e142c",
   "metadata": {},
   "outputs": [
    {
     "data": {
      "text/html": [
       "<div>\n",
       "<style scoped>\n",
       "    .dataframe tbody tr th:only-of-type {\n",
       "        vertical-align: middle;\n",
       "    }\n",
       "\n",
       "    .dataframe tbody tr th {\n",
       "        vertical-align: top;\n",
       "    }\n",
       "\n",
       "    .dataframe thead th {\n",
       "        text-align: right;\n",
       "    }\n",
       "</style>\n",
       "<table border=\"1\" class=\"dataframe\">\n",
       "  <thead>\n",
       "    <tr style=\"text-align: right;\">\n",
       "      <th></th>\n",
       "      <th>Pregnancies</th>\n",
       "      <th>Glucose</th>\n",
       "      <th>BloodPressure</th>\n",
       "      <th>SkinThickness</th>\n",
       "      <th>Insulin</th>\n",
       "      <th>BMI</th>\n",
       "      <th>DiabetesPedigreeFunction</th>\n",
       "      <th>Age</th>\n",
       "    </tr>\n",
       "  </thead>\n",
       "  <tbody>\n",
       "    <tr>\n",
       "      <th>0</th>\n",
       "      <td>6</td>\n",
       "      <td>148.0</td>\n",
       "      <td>72</td>\n",
       "      <td>35.0</td>\n",
       "      <td>30.5</td>\n",
       "      <td>33.6</td>\n",
       "      <td>0.627</td>\n",
       "      <td>50</td>\n",
       "    </tr>\n",
       "    <tr>\n",
       "      <th>1</th>\n",
       "      <td>1</td>\n",
       "      <td>85.0</td>\n",
       "      <td>66</td>\n",
       "      <td>29.0</td>\n",
       "      <td>30.5</td>\n",
       "      <td>26.6</td>\n",
       "      <td>0.351</td>\n",
       "      <td>31</td>\n",
       "    </tr>\n",
       "    <tr>\n",
       "      <th>2</th>\n",
       "      <td>8</td>\n",
       "      <td>183.0</td>\n",
       "      <td>64</td>\n",
       "      <td>23.0</td>\n",
       "      <td>30.5</td>\n",
       "      <td>23.3</td>\n",
       "      <td>0.672</td>\n",
       "      <td>32</td>\n",
       "    </tr>\n",
       "    <tr>\n",
       "      <th>3</th>\n",
       "      <td>1</td>\n",
       "      <td>89.0</td>\n",
       "      <td>66</td>\n",
       "      <td>23.0</td>\n",
       "      <td>94.0</td>\n",
       "      <td>28.1</td>\n",
       "      <td>0.167</td>\n",
       "      <td>21</td>\n",
       "    </tr>\n",
       "    <tr>\n",
       "      <th>4</th>\n",
       "      <td>0</td>\n",
       "      <td>137.0</td>\n",
       "      <td>40</td>\n",
       "      <td>35.0</td>\n",
       "      <td>168.0</td>\n",
       "      <td>43.1</td>\n",
       "      <td>2.288</td>\n",
       "      <td>33</td>\n",
       "    </tr>\n",
       "  </tbody>\n",
       "</table>\n",
       "</div>"
      ],
      "text/plain": [
       "   Pregnancies  Glucose  BloodPressure  SkinThickness  Insulin   BMI  \\\n",
       "0            6    148.0             72           35.0     30.5  33.6   \n",
       "1            1     85.0             66           29.0     30.5  26.6   \n",
       "2            8    183.0             64           23.0     30.5  23.3   \n",
       "3            1     89.0             66           23.0     94.0  28.1   \n",
       "4            0    137.0             40           35.0    168.0  43.1   \n",
       "\n",
       "   DiabetesPedigreeFunction  Age  \n",
       "0                     0.627   50  \n",
       "1                     0.351   31  \n",
       "2                     0.672   32  \n",
       "3                     0.167   21  \n",
       "4                     2.288   33  "
      ]
     },
     "execution_count": 27,
     "metadata": {},
     "output_type": "execute_result"
    }
   ],
   "source": [
    "X.head()"
   ]
  },
  {
   "cell_type": "code",
   "execution_count": 10,
   "id": "4df70e93-2afd-4f2c-9153-2f5fb8b10604",
   "metadata": {},
   "outputs": [
    {
     "data": {
      "text/plain": [
       "((614, 8), (154, 8), (614,), (154,))"
      ]
     },
     "execution_count": 10,
     "metadata": {},
     "output_type": "execute_result"
    }
   ],
   "source": [
    "from sklearn.model_selection import train_test_split\n",
    "X_train, X_test, y_train, y_test = train_test_split(X, y, test_size=0.2, random_state=33)\n",
    "X_train.shape, X_test.shape, y_train.shape, y_test.shape"
   ]
  },
  {
   "cell_type": "code",
   "execution_count": 11,
   "id": "a6d6d3be-42dc-476a-87ec-090d0a30a70d",
   "metadata": {},
   "outputs": [],
   "source": [
    "from sklearn.ensemble import RandomForestClassifier\n",
    "rf_classifier = RandomForestClassifier(n_estimators=10)\n",
    "rf_classifier.fit(X_train,y_train)\n",
    "y_test_pred = rf_classifier.predict(X_test)"
   ]
  },
  {
   "cell_type": "code",
   "execution_count": 12,
   "id": "2147bd45-5c85-4e80-bd40-47c29065caf2",
   "metadata": {},
   "outputs": [],
   "source": [
    "from sklearn.metrics import classification_report, confusion_matrix, accuracy_score\n"
   ]
  },
  {
   "cell_type": "code",
   "execution_count": 13,
   "id": "14de86db-2ace-4479-b191-71758dd7b873",
   "metadata": {},
   "outputs": [
    {
     "name": "stdout",
     "output_type": "stream",
     "text": [
      "[[87 12]\n",
      " [29 26]]\n",
      "              precision    recall  f1-score   support\n",
      "\n",
      "           0       0.75      0.88      0.81        99\n",
      "           1       0.68      0.47      0.56        55\n",
      "\n",
      "    accuracy                           0.73       154\n",
      "   macro avg       0.72      0.68      0.68       154\n",
      "weighted avg       0.73      0.73      0.72       154\n",
      "\n",
      "0.7337662337662337\n"
     ]
    }
   ],
   "source": [
    "print(confusion_matrix(y_test,y_test_pred))\n",
    "print(classification_report(y_test,y_test_pred))\n",
    "print(accuracy_score(y_test,y_test_pred))"
   ]
  },
  {
   "cell_type": "markdown",
   "id": "469f5084-bc93-4b23-874e-ad4ed8fc2fd2",
   "metadata": {},
   "source": [
    "### Manual Hyperparameter Tuning"
   ]
  },
  {
   "cell_type": "code",
   "execution_count": 68,
   "id": "9560775e-8b3d-4f86-91d3-4ce9adf22906",
   "metadata": {},
   "outputs": [],
   "source": [
    "from sklearn.ensemble import RandomForestClassifier\n",
    "rf_classifier = RandomForestClassifier(n_estimators=300, criterion='entropy',max_features='sqrt', min_samples_leaf=10)\n",
    "rf_classifier.fit(X_train,y_train)\n",
    "y_test_pred = rf_classifier.predict(X_test)"
   ]
  },
  {
   "cell_type": "code",
   "execution_count": 69,
   "id": "e5bac1e4-de31-44c0-b64a-4851b80984a5",
   "metadata": {},
   "outputs": [
    {
     "name": "stdout",
     "output_type": "stream",
     "text": [
      "[[88 11]\n",
      " [28 27]]\n",
      "              precision    recall  f1-score   support\n",
      "\n",
      "           0       0.76      0.89      0.82        99\n",
      "           1       0.71      0.49      0.58        55\n",
      "\n",
      "    accuracy                           0.75       154\n",
      "   macro avg       0.73      0.69      0.70       154\n",
      "weighted avg       0.74      0.75      0.73       154\n",
      "\n",
      "0.7467532467532467\n"
     ]
    }
   ],
   "source": [
    "print(confusion_matrix(y_test,y_test_pred))\n",
    "print(classification_report(y_test,y_test_pred))\n",
    "print(accuracy_score(y_test,y_test_pred))"
   ]
  },
  {
   "cell_type": "markdown",
   "id": "c346dbf0-05bd-41ff-9c75-402a4c863e22",
   "metadata": {},
   "source": [
    "### Randomized Search CV"
   ]
  },
  {
   "cell_type": "code",
   "execution_count": 14,
   "id": "1c76dfc2-44d8-44d4-8ab7-57f160f13418",
   "metadata": {},
   "outputs": [],
   "source": [
    "from sklearn.model_selection import RandomizedSearchCV\n"
   ]
  },
  {
   "cell_type": "code",
   "execution_count": 71,
   "id": "27b6dbfa-0af0-4c52-a95e-0ed1594a3521",
   "metadata": {},
   "outputs": [],
   "source": [
    "n_estimators = [int(x) for x in np.linspace(200,2000,10)]\n",
    "max_features = ['auto','sqrt','logs']\n",
    "max_depth = [int(x) for x in np.linspace(10,1000,10)]\n",
    "min_samples_split = [2,3,10,14]\n",
    "min_samples_leaf = [1,2,4,6,8]"
   ]
  },
  {
   "cell_type": "code",
   "execution_count": 72,
   "id": "32829188-d3b0-4e84-b4b1-543f4a127698",
   "metadata": {},
   "outputs": [
    {
     "name": "stdout",
     "output_type": "stream",
     "text": [
      "{'n_estimators': [200, 400, 600, 800, 1000, 1200, 1400, 1600, 1800, 2000], 'max_features': ['auto', 'sqrt', 'logs'], 'max_depth': [10, 120, 230, 340, 450, 560, 670, 780, 890, 1000], 'min_samples_split': [2, 3, 10, 14], 'min_samples_leaf': [1, 2, 4, 6, 8], 'criterion': ['gini', 'entropy']}\n"
     ]
    }
   ],
   "source": [
    "random_grid = {\n",
    "    \"n_estimators\" : n_estimators,\n",
    "    \"max_features\" : max_features,\n",
    "    \"max_depth\" : max_depth,\n",
    "    \"min_samples_split\" : min_samples_split,\n",
    "    \"min_samples_leaf\" : min_samples_leaf,\n",
    "    \"criterion\"  : ['gini','entropy']\n",
    "}\n",
    "\n",
    "print(random_grid)    "
   ]
  },
  {
   "cell_type": "code",
   "execution_count": 73,
   "id": "b2afe9c9-1c86-4add-8c44-fea3fbdcf691",
   "metadata": {},
   "outputs": [
    {
     "name": "stdout",
     "output_type": "stream",
     "text": [
      "Fitting 3 folds for each of 100 candidates, totalling 300 fits\n"
     ]
    },
    {
     "data": {
      "text/plain": [
       "RandomizedSearchCV(cv=3, estimator=RandomForestClassifier(), n_iter=100,\n",
       "                   n_jobs=-1,\n",
       "                   param_distributions={'criterion': ['gini', 'entropy'],\n",
       "                                        'max_depth': [10, 120, 230, 340, 450,\n",
       "                                                      560, 670, 780, 890,\n",
       "                                                      1000],\n",
       "                                        'max_features': ['auto', 'sqrt',\n",
       "                                                         'logs'],\n",
       "                                        'min_samples_leaf': [1, 2, 4, 6, 8],\n",
       "                                        'min_samples_split': [2, 3, 10, 14],\n",
       "                                        'n_estimators': [200, 400, 600, 800,\n",
       "                                                         1000, 1200, 1400, 1600,\n",
       "                                                         1800, 2000]},\n",
       "                   random_state=100, verbose=2)"
      ]
     },
     "execution_count": 73,
     "metadata": {},
     "output_type": "execute_result"
    }
   ],
   "source": [
    "rf = RandomForestClassifier()\n",
    "rf_randomcv = RandomizedSearchCV(estimator = rf, param_distributions = random_grid, n_iter=100, cv=3,verbose=2,\n",
    "                                 random_state=100,n_jobs=-1)\n",
    "rf_randomcv.fit(X_train,y_train)"
   ]
  },
  {
   "cell_type": "code",
   "execution_count": 74,
   "id": "cd86a162-8b80-4bea-b45c-9c7405f2967d",
   "metadata": {},
   "outputs": [
    {
     "data": {
      "text/plain": [
       "{'n_estimators': 1400,\n",
       " 'min_samples_split': 2,\n",
       " 'min_samples_leaf': 2,\n",
       " 'max_features': 'sqrt',\n",
       " 'max_depth': 1000,\n",
       " 'criterion': 'gini'}"
      ]
     },
     "execution_count": 74,
     "metadata": {},
     "output_type": "execute_result"
    }
   ],
   "source": [
    "rf_randomcv.best_params_"
   ]
  },
  {
   "cell_type": "code",
   "execution_count": 75,
   "id": "9ede7bc4-ba67-45eb-a1df-db9756fc4383",
   "metadata": {},
   "outputs": [],
   "source": [
    "best_model = rf_randomcv.best_estimator_"
   ]
  },
  {
   "cell_type": "code",
   "execution_count": 76,
   "id": "fda176d7-09bc-4eab-8386-5a6fa194c265",
   "metadata": {},
   "outputs": [
    {
     "data": {
      "text/plain": [
       "RandomForestClassifier(max_depth=1000, max_features='sqrt', min_samples_leaf=2,\n",
       "                       n_estimators=1400)"
      ]
     },
     "execution_count": 76,
     "metadata": {},
     "output_type": "execute_result"
    }
   ],
   "source": [
    "best_model"
   ]
  },
  {
   "cell_type": "code",
   "execution_count": 79,
   "id": "bc5209d2-7ba3-4225-ada8-a031be97cf5d",
   "metadata": {},
   "outputs": [
    {
     "name": "stdout",
     "output_type": "stream",
     "text": [
      "[[86 13]\n",
      " [24 31]]\n",
      "Accuracy score: 0.7597402597402597\n",
      "Classification report:               precision    recall  f1-score   support\n",
      "\n",
      "           0       0.78      0.87      0.82        99\n",
      "           1       0.70      0.56      0.63        55\n",
      "\n",
      "    accuracy                           0.76       154\n",
      "   macro avg       0.74      0.72      0.72       154\n",
      "weighted avg       0.75      0.76      0.75       154\n",
      "\n"
     ]
    }
   ],
   "source": [
    "y_pred = best_model.predict(X_test)\n",
    "print(confusion_matrix(y_test,y_pred))\n",
    "print(\"Accuracy score:\", accuracy_score(y_test,y_pred))\n",
    "print(\"Classification report: {}\".format(classification_report(y_test,y_pred)))"
   ]
  },
  {
   "cell_type": "markdown",
   "id": "f5b85ac8-5673-41f8-9b87-227c089c3523",
   "metadata": {},
   "source": [
    "### GridSearchCV"
   ]
  },
  {
   "cell_type": "code",
   "execution_count": 80,
   "id": "eccef880-45d9-4355-862b-e89be23122a5",
   "metadata": {},
   "outputs": [],
   "source": [
    "from sklearn.model_selection import GridSearchCV"
   ]
  },
  {
   "cell_type": "code",
   "execution_count": 81,
   "id": "63ab5c84-cd76-41ab-94f1-ffd46bdff9be",
   "metadata": {},
   "outputs": [
    {
     "data": {
      "text/plain": [
       "{'n_estimators': 1400,\n",
       " 'min_samples_split': 2,\n",
       " 'min_samples_leaf': 2,\n",
       " 'max_features': 'sqrt',\n",
       " 'max_depth': 1000,\n",
       " 'criterion': 'gini'}"
      ]
     },
     "execution_count": 81,
     "metadata": {},
     "output_type": "execute_result"
    }
   ],
   "source": [
    "rf_randomcv.best_params_"
   ]
  },
  {
   "cell_type": "code",
   "execution_count": 83,
   "id": "defe1715-c865-4a0c-b5f4-07641df6f923",
   "metadata": {},
   "outputs": [
    {
     "data": {
      "text/plain": [
       "dict"
      ]
     },
     "execution_count": 83,
     "metadata": {},
     "output_type": "execute_result"
    }
   ],
   "source": [
    "type(rf_randomcv.best_params_)"
   ]
  },
  {
   "cell_type": "code",
   "execution_count": 84,
   "id": "21beca15-2a3c-44a8-a52a-bd7fcb33bc56",
   "metadata": {},
   "outputs": [],
   "source": [
    "param_grid = {\n",
    "    \"n_estimators\" : [rf_randomcv.best_params_['n_estimators'] - 200, rf_randomcv.best_params_['n_estimators'] - 100,\n",
    "                      rf_randomcv.best_params_['n_estimators'], rf_randomcv.best_params_['n_estimators'] + 100, \n",
    "                      rf_randomcv.best_params_['n_estimators'] + 200],\n",
    "    \"min_samples_split\" : [rf_randomcv.best_params_['min_samples_split'],\n",
    "                           rf_randomcv.best_params_['min_samples_split'] + 1,\n",
    "                           rf_randomcv.best_params_['min_samples_split'] + 2],\n",
    "    \"min_samples_leaf\" : [rf_randomcv.best_params_['min_samples_leaf'],\n",
    "                           rf_randomcv.best_params_['min_samples_leaf'] + 1,\n",
    "                           rf_randomcv.best_params_['min_samples_leaf'] + 2],\n",
    "    \"max_features\" : [rf_randomcv.best_params_['max_features']],\n",
    "    'max_depth' : [rf_randomcv.best_params_['max_depth']],\n",
    "    \"criterion\" : [rf_randomcv.best_params_['criterion']]\n",
    "}\n"
   ]
  },
  {
   "cell_type": "code",
   "execution_count": 87,
   "id": "8ecd06b6-a14f-4637-979c-62a839a4a1aa",
   "metadata": {},
   "outputs": [
    {
     "name": "stdout",
     "output_type": "stream",
     "text": [
      "Fitting 10 folds for each of 45 candidates, totalling 450 fits\n"
     ]
    },
    {
     "data": {
      "text/plain": [
       "GridSearchCV(cv=10, estimator=RandomForestClassifier(), n_jobs=-1,\n",
       "             param_grid={'criterion': ['gini'], 'max_depth': [1000],\n",
       "                         'max_features': ['sqrt'],\n",
       "                         'min_samples_leaf': [2, 3, 4],\n",
       "                         'min_samples_split': [2, 3, 4],\n",
       "                         'n_estimators': [1200, 1300, 1400, 1500, 1600]},\n",
       "             verbose=2)"
      ]
     },
     "execution_count": 87,
     "metadata": {},
     "output_type": "execute_result"
    }
   ],
   "source": [
    "rf = RandomForestClassifier()\n",
    "rf_gridcv = GridSearchCV(estimator = rf, param_grid = param_grid, cv=10,verbose=2,\n",
    "                                 n_jobs=-1)\n",
    "rf_gridcv.fit(X_train,y_train)"
   ]
  },
  {
   "cell_type": "code",
   "execution_count": 92,
   "id": "2f90af69-f12a-49c5-b658-61d9df3c17f0",
   "metadata": {},
   "outputs": [
    {
     "data": {
      "text/plain": [
       "{'criterion': 'gini',\n",
       " 'max_depth': 1000,\n",
       " 'max_features': 'sqrt',\n",
       " 'min_samples_leaf': 4,\n",
       " 'min_samples_split': 4,\n",
       " 'n_estimators': 1500}"
      ]
     },
     "execution_count": 92,
     "metadata": {},
     "output_type": "execute_result"
    }
   ],
   "source": [
    "rf_gridcv.best_params_"
   ]
  },
  {
   "cell_type": "code",
   "execution_count": 93,
   "id": "273c0905-e61d-43b3-a26e-0d4115a5e886",
   "metadata": {},
   "outputs": [],
   "source": [
    "best_model = rf_gridcv.best_estimator_"
   ]
  },
  {
   "cell_type": "code",
   "execution_count": 94,
   "id": "cf78d65b-771e-4da9-b5f1-40416b5c23b5",
   "metadata": {},
   "outputs": [
    {
     "name": "stdout",
     "output_type": "stream",
     "text": [
      "[[86 13]\n",
      " [24 31]]\n",
      "Accuracy score: 0.7597402597402597\n",
      "Classification report:               precision    recall  f1-score   support\n",
      "\n",
      "           0       0.78      0.87      0.82        99\n",
      "           1       0.70      0.56      0.63        55\n",
      "\n",
      "    accuracy                           0.76       154\n",
      "   macro avg       0.74      0.72      0.72       154\n",
      "weighted avg       0.75      0.76      0.75       154\n",
      "\n"
     ]
    }
   ],
   "source": [
    "y_pred_grid = best_model.predict(X_test)\n",
    "print(confusion_matrix(y_test,y_pred))\n",
    "print(\"Accuracy score:\", accuracy_score(y_test,y_pred))\n",
    "print(\"Classification report: {}\".format(classification_report(y_test,y_pred)))\n"
   ]
  },
  {
   "cell_type": "markdown",
   "id": "f01b6425-ff61-4949-910f-52fe2ace3f7c",
   "metadata": {},
   "source": [
    "### Automated Hyperparameter Tuning"
   ]
  },
  {
   "cell_type": "markdown",
   "id": "fa1e4e57-34e0-4121-956b-21fa34a22dcc",
   "metadata": {},
   "source": [
    "#### Bayesian Optimization"
   ]
  },
  {
   "cell_type": "markdown",
   "id": "2753c833-e59e-47d7-a0ba-fa08b33ea376",
   "metadata": {},
   "source": [
    "#### Bayesian Optimization\n"
   ]
  },
  {
   "cell_type": "code",
   "execution_count": 101,
   "id": "11dd04f6-6774-4133-a91e-456ac3a0d1b1",
   "metadata": {},
   "outputs": [],
   "source": [
    "from hyperopt import hp,fmin,tpe,STATUS_OK,Trials\n",
    "from sklearn.model_selection import cross_val_score"
   ]
  },
  {
   "cell_type": "code",
   "execution_count": 98,
   "id": "1c5db261-c161-4a56-87e0-dddcf2b1a45a",
   "metadata": {},
   "outputs": [],
   "source": [
    "space = {\n",
    "    \"criterion\" : hp.choice('criterion' , ['entropy','gini']),\n",
    "    \"max_depth\" : hp.quniform('max_depth', 10, 1200, 10),\n",
    "    \"max_features\" : hp.choice('max_features', ['auto', 'sqrt', 'log2', None]),\n",
    "    \"min_samples_leaf\" : hp.uniform('min_samples_leaf', 0, 0.5),\n",
    "    \"min_samples_split\" : hp.uniform ('min_samples_split', 0, 1),\n",
    "    'n_estimators' : hp.choice('n_estimators', [10, 50, 300, 750, 1200,1300,1500])\n",
    "}\n",
    "    "
   ]
  },
  {
   "cell_type": "code",
   "execution_count": 99,
   "id": "e91bb2fe-7889-4aa5-a99c-e10a36eddce1",
   "metadata": {},
   "outputs": [
    {
     "data": {
      "text/plain": [
       "{'criterion': <hyperopt.pyll.base.Apply at 0x1e9085b3700>,\n",
       " 'max_depth': <hyperopt.pyll.base.Apply at 0x1e9085b33d0>,\n",
       " 'max_features': <hyperopt.pyll.base.Apply at 0x1e9085a12e0>,\n",
       " 'min_samples_leaf': <hyperopt.pyll.base.Apply at 0x1e906cfa460>,\n",
       " 'min_samples_split': <hyperopt.pyll.base.Apply at 0x1e906cfaeb0>,\n",
       " 'n_estimators': <hyperopt.pyll.base.Apply at 0x1e906cfa4c0>}"
      ]
     },
     "execution_count": 99,
     "metadata": {},
     "output_type": "execute_result"
    }
   ],
   "source": [
    "space"
   ]
  },
  {
   "cell_type": "code",
   "execution_count": 100,
   "id": "9eb8ed91-bb87-436b-afd9-cf2fa26f3e1c",
   "metadata": {},
   "outputs": [],
   "source": [
    "def objective(space):\n",
    "    model = RandomForestClassifier(criterion=space['criterion'],max_depth=space['max_depth'],\n",
    "                                   max_features=space['max_features'], min_samples_leaf=space['min_samples_leaf'],\n",
    "                                   min_samples_split=space['min_samples_split'], n_estimators = space['n_estimators'])\n",
    "    accuracy =  cross_val_score(model, X_train, y_train, cv=5).mean()\n",
    "    \n",
    "    return {'loss': -accuracy, 'status': STATUS_OK }"
   ]
  },
  {
   "cell_type": "code",
   "execution_count": 102,
   "id": "1543ad11-bb29-442c-9a24-0beb04c6e0e1",
   "metadata": {},
   "outputs": [
    {
     "name": "stdout",
     "output_type": "stream",
     "text": [
      "100%|██████████| 80/80 [04:32<00:00,  3.41s/trial, best loss: -0.7769159003065441]\n"
     ]
    },
    {
     "data": {
      "text/plain": [
       "{'criterion': 1,\n",
       " 'max_depth': 860.0,\n",
       " 'max_features': 1,\n",
       " 'min_samples_leaf': 0.015700478345609198,\n",
       " 'min_samples_split': 0.01501701733755585,\n",
       " 'n_estimators': 5}"
      ]
     },
     "execution_count": 102,
     "metadata": {},
     "output_type": "execute_result"
    }
   ],
   "source": [
    "trials = Trials()\n",
    "best = fmin(fn=objective,\n",
    "            space=space,\n",
    "            algo = tpe.suggest,\n",
    "            max_evals=80,\n",
    "            trials = trials)\n",
    "            \n",
    "best"
   ]
  },
  {
   "cell_type": "code",
   "execution_count": 104,
   "id": "8f78fc22-3fea-4d7c-8979-e4ed8a2f7132",
   "metadata": {},
   "outputs": [
    {
     "name": "stdout",
     "output_type": "stream",
     "text": [
      "gini\n",
      "sqrt\n",
      "1300\n",
      "0.015700478345609198\n"
     ]
    }
   ],
   "source": [
    "crit = {0: 'entropy', 1: 'gini'}\n",
    "feat = {0: 'auto', 1: 'sqrt', 2: 'log2', 3: None}\n",
    "est = {0: 10, 1: 50, 2: 300, 3: 750, 4: 1200,5:1300,6:1500}\n",
    "\n",
    "\n",
    "print(crit[best['criterion']])\n",
    "print(feat[best['max_features']])\n",
    "print(est[best['n_estimators']])\n",
    "print(best['min_samples_leaf'])"
   ]
  },
  {
   "cell_type": "code",
   "execution_count": 105,
   "id": "6a7a891f-e76f-4e26-9575-06bd5d8fd40c",
   "metadata": {},
   "outputs": [
    {
     "name": "stdout",
     "output_type": "stream",
     "text": [
      "[[89 10]\n",
      " [28 27]]\n",
      "0.7532467532467533\n",
      "              precision    recall  f1-score   support\n",
      "\n",
      "           0       0.76      0.90      0.82        99\n",
      "           1       0.73      0.49      0.59        55\n",
      "\n",
      "    accuracy                           0.75       154\n",
      "   macro avg       0.75      0.69      0.71       154\n",
      "weighted avg       0.75      0.75      0.74       154\n",
      "\n"
     ]
    }
   ],
   "source": [
    "trainedforest = RandomForestClassifier(criterion = crit[best['criterion']], max_depth = best['max_depth'], \n",
    "                                       max_features = feat[best['max_features']], \n",
    "                                       min_samples_leaf = best['min_samples_leaf'], \n",
    "                                       min_samples_split = best['min_samples_split'], \n",
    "                                       n_estimators = est[best['n_estimators']]).fit(X_train,y_train)\n",
    "predictionforest = trainedforest.predict(X_test)\n",
    "print(confusion_matrix(y_test,predictionforest))\n",
    "print(accuracy_score(y_test,predictionforest))\n",
    "print(classification_report(y_test,predictionforest))\n",
    "acc5 = accuracy_score(y_test,predictionforest)"
   ]
  },
  {
   "cell_type": "markdown",
   "id": "e6a6ef7c-4cd1-4f77-b909-0f836c6463c7",
   "metadata": {},
   "source": [
    "### Genetic Algorithm\n",
    "\n"
   ]
  },
  {
   "cell_type": "code",
   "execution_count": 15,
   "id": "fc66048b-b689-426f-9be4-7fdae24e0b95",
   "metadata": {},
   "outputs": [],
   "source": [
    "#Initialize parameters\n",
    "\n",
    "n_estimators = [int(x) for x in np.linspace(200,2000,10)]\n",
    "max_features = ['auto','sqrt','logs']\n",
    "max_depth = [int(x) for x in np.linspace(10,1000,10)]\n",
    "min_samples_split = [2,3,10,14]\n",
    "min_samples_leaf = [1,2,4,6,8]\n",
    "\n"
   ]
  },
  {
   "cell_type": "code",
   "execution_count": 16,
   "id": "cc6cccab-36e3-4378-85e1-09e6f6c3e469",
   "metadata": {},
   "outputs": [],
   "source": [
    "param = {\n",
    "    \"n_estimators\" : n_estimators,\n",
    "    \"max_features\" : max_features,\n",
    "    \"max_depth\" : max_depth,\n",
    "    \"min_samples_split\" : min_samples_split,\n",
    "    \"min_samples_leaf\" : min_samples_leaf,\n",
    "    \"criterion\"  : ['gini','entropy']\n",
    "}\n"
   ]
  },
  {
   "cell_type": "code",
   "execution_count": 24,
   "id": "e8df2a25-cdef-4474-8f18-d1ddf274165b",
   "metadata": {},
   "outputs": [
    {
     "name": "stderr",
     "output_type": "stream",
     "text": [
      "Version 0.11.7 of tpot is outdated. Version 0.12.2 was released Friday February 23, 2024.\n"
     ]
    },
    {
     "data": {
      "application/vnd.jupyter.widget-view+json": {
       "model_id": "",
       "version_major": 2,
       "version_minor": 0
      },
      "text/plain": [
       "Optimization Progress:   0%|          | 0/84 [00:00<?, ?pipeline/s]"
      ]
     },
     "metadata": {},
     "output_type": "display_data"
    },
    {
     "name": "stdout",
     "output_type": "stream",
     "text": [
      "\n",
      "Generation 1 - Current best internal CV score: 0.7818309141838553\n",
      "\n",
      "Generation 2 - Current best internal CV score: 0.7818309141838553\n",
      "\n",
      "Generation 3 - Current best internal CV score: 0.7818309141838553\n",
      "\n",
      "Generation 4 - Current best internal CV score: 0.7818309141838553\n",
      "\n",
      "Generation 5 - Current best internal CV score: 0.7818309141838553\n",
      "\n",
      "Best pipeline: RandomForestClassifier(input_matrix, criterion=gini, max_depth=890, max_features=sqrt, min_samples_leaf=8, min_samples_split=2, n_estimators=600)\n"
     ]
    },
    {
     "data": {
      "text/html": [
       "<style>#sk-container-id-1 {\n",
       "  /* Definition of color scheme common for light and dark mode */\n",
       "  --sklearn-color-text: black;\n",
       "  --sklearn-color-line: gray;\n",
       "  /* Definition of color scheme for unfitted estimators */\n",
       "  --sklearn-color-unfitted-level-0: #fff5e6;\n",
       "  --sklearn-color-unfitted-level-1: #f6e4d2;\n",
       "  --sklearn-color-unfitted-level-2: #ffe0b3;\n",
       "  --sklearn-color-unfitted-level-3: chocolate;\n",
       "  /* Definition of color scheme for fitted estimators */\n",
       "  --sklearn-color-fitted-level-0: #f0f8ff;\n",
       "  --sklearn-color-fitted-level-1: #d4ebff;\n",
       "  --sklearn-color-fitted-level-2: #b3dbfd;\n",
       "  --sklearn-color-fitted-level-3: cornflowerblue;\n",
       "\n",
       "  /* Specific color for light theme */\n",
       "  --sklearn-color-text-on-default-background: var(--sg-text-color, var(--theme-code-foreground, var(--jp-content-font-color1, black)));\n",
       "  --sklearn-color-background: var(--sg-background-color, var(--theme-background, var(--jp-layout-color0, white)));\n",
       "  --sklearn-color-border-box: var(--sg-text-color, var(--theme-code-foreground, var(--jp-content-font-color1, black)));\n",
       "  --sklearn-color-icon: #696969;\n",
       "\n",
       "  @media (prefers-color-scheme: dark) {\n",
       "    /* Redefinition of color scheme for dark theme */\n",
       "    --sklearn-color-text-on-default-background: var(--sg-text-color, var(--theme-code-foreground, var(--jp-content-font-color1, white)));\n",
       "    --sklearn-color-background: var(--sg-background-color, var(--theme-background, var(--jp-layout-color0, #111)));\n",
       "    --sklearn-color-border-box: var(--sg-text-color, var(--theme-code-foreground, var(--jp-content-font-color1, white)));\n",
       "    --sklearn-color-icon: #878787;\n",
       "  }\n",
       "}\n",
       "\n",
       "#sk-container-id-1 {\n",
       "  color: var(--sklearn-color-text);\n",
       "}\n",
       "\n",
       "#sk-container-id-1 pre {\n",
       "  padding: 0;\n",
       "}\n",
       "\n",
       "#sk-container-id-1 input.sk-hidden--visually {\n",
       "  border: 0;\n",
       "  clip: rect(1px 1px 1px 1px);\n",
       "  clip: rect(1px, 1px, 1px, 1px);\n",
       "  height: 1px;\n",
       "  margin: -1px;\n",
       "  overflow: hidden;\n",
       "  padding: 0;\n",
       "  position: absolute;\n",
       "  width: 1px;\n",
       "}\n",
       "\n",
       "#sk-container-id-1 div.sk-dashed-wrapped {\n",
       "  border: 1px dashed var(--sklearn-color-line);\n",
       "  margin: 0 0.4em 0.5em 0.4em;\n",
       "  box-sizing: border-box;\n",
       "  padding-bottom: 0.4em;\n",
       "  background-color: var(--sklearn-color-background);\n",
       "}\n",
       "\n",
       "#sk-container-id-1 div.sk-container {\n",
       "  /* jupyter's `normalize.less` sets `[hidden] { display: none; }`\n",
       "     but bootstrap.min.css set `[hidden] { display: none !important; }`\n",
       "     so we also need the `!important` here to be able to override the\n",
       "     default hidden behavior on the sphinx rendered scikit-learn.org.\n",
       "     See: https://github.com/scikit-learn/scikit-learn/issues/21755 */\n",
       "  display: inline-block !important;\n",
       "  position: relative;\n",
       "}\n",
       "\n",
       "#sk-container-id-1 div.sk-text-repr-fallback {\n",
       "  display: none;\n",
       "}\n",
       "\n",
       "div.sk-parallel-item,\n",
       "div.sk-serial,\n",
       "div.sk-item {\n",
       "  /* draw centered vertical line to link estimators */\n",
       "  background-image: linear-gradient(var(--sklearn-color-text-on-default-background), var(--sklearn-color-text-on-default-background));\n",
       "  background-size: 2px 100%;\n",
       "  background-repeat: no-repeat;\n",
       "  background-position: center center;\n",
       "}\n",
       "\n",
       "/* Parallel-specific style estimator block */\n",
       "\n",
       "#sk-container-id-1 div.sk-parallel-item::after {\n",
       "  content: \"\";\n",
       "  width: 100%;\n",
       "  border-bottom: 2px solid var(--sklearn-color-text-on-default-background);\n",
       "  flex-grow: 1;\n",
       "}\n",
       "\n",
       "#sk-container-id-1 div.sk-parallel {\n",
       "  display: flex;\n",
       "  align-items: stretch;\n",
       "  justify-content: center;\n",
       "  background-color: var(--sklearn-color-background);\n",
       "  position: relative;\n",
       "}\n",
       "\n",
       "#sk-container-id-1 div.sk-parallel-item {\n",
       "  display: flex;\n",
       "  flex-direction: column;\n",
       "}\n",
       "\n",
       "#sk-container-id-1 div.sk-parallel-item:first-child::after {\n",
       "  align-self: flex-end;\n",
       "  width: 50%;\n",
       "}\n",
       "\n",
       "#sk-container-id-1 div.sk-parallel-item:last-child::after {\n",
       "  align-self: flex-start;\n",
       "  width: 50%;\n",
       "}\n",
       "\n",
       "#sk-container-id-1 div.sk-parallel-item:only-child::after {\n",
       "  width: 0;\n",
       "}\n",
       "\n",
       "/* Serial-specific style estimator block */\n",
       "\n",
       "#sk-container-id-1 div.sk-serial {\n",
       "  display: flex;\n",
       "  flex-direction: column;\n",
       "  align-items: center;\n",
       "  background-color: var(--sklearn-color-background);\n",
       "  padding-right: 1em;\n",
       "  padding-left: 1em;\n",
       "}\n",
       "\n",
       "\n",
       "/* Toggleable style: style used for estimator/Pipeline/ColumnTransformer box that is\n",
       "clickable and can be expanded/collapsed.\n",
       "- Pipeline and ColumnTransformer use this feature and define the default style\n",
       "- Estimators will overwrite some part of the style using the `sk-estimator` class\n",
       "*/\n",
       "\n",
       "/* Pipeline and ColumnTransformer style (default) */\n",
       "\n",
       "#sk-container-id-1 div.sk-toggleable {\n",
       "  /* Default theme specific background. It is overwritten whether we have a\n",
       "  specific estimator or a Pipeline/ColumnTransformer */\n",
       "  background-color: var(--sklearn-color-background);\n",
       "}\n",
       "\n",
       "/* Toggleable label */\n",
       "#sk-container-id-1 label.sk-toggleable__label {\n",
       "  cursor: pointer;\n",
       "  display: block;\n",
       "  width: 100%;\n",
       "  margin-bottom: 0;\n",
       "  padding: 0.5em;\n",
       "  box-sizing: border-box;\n",
       "  text-align: center;\n",
       "}\n",
       "\n",
       "#sk-container-id-1 label.sk-toggleable__label-arrow:before {\n",
       "  /* Arrow on the left of the label */\n",
       "  content: \"▸\";\n",
       "  float: left;\n",
       "  margin-right: 0.25em;\n",
       "  color: var(--sklearn-color-icon);\n",
       "}\n",
       "\n",
       "#sk-container-id-1 label.sk-toggleable__label-arrow:hover:before {\n",
       "  color: var(--sklearn-color-text);\n",
       "}\n",
       "\n",
       "/* Toggleable content - dropdown */\n",
       "\n",
       "#sk-container-id-1 div.sk-toggleable__content {\n",
       "  max-height: 0;\n",
       "  max-width: 0;\n",
       "  overflow: hidden;\n",
       "  text-align: left;\n",
       "  /* unfitted */\n",
       "  background-color: var(--sklearn-color-unfitted-level-0);\n",
       "}\n",
       "\n",
       "#sk-container-id-1 div.sk-toggleable__content.fitted {\n",
       "  /* fitted */\n",
       "  background-color: var(--sklearn-color-fitted-level-0);\n",
       "}\n",
       "\n",
       "#sk-container-id-1 div.sk-toggleable__content pre {\n",
       "  margin: 0.2em;\n",
       "  border-radius: 0.25em;\n",
       "  color: var(--sklearn-color-text);\n",
       "  /* unfitted */\n",
       "  background-color: var(--sklearn-color-unfitted-level-0);\n",
       "}\n",
       "\n",
       "#sk-container-id-1 div.sk-toggleable__content.fitted pre {\n",
       "  /* unfitted */\n",
       "  background-color: var(--sklearn-color-fitted-level-0);\n",
       "}\n",
       "\n",
       "#sk-container-id-1 input.sk-toggleable__control:checked~div.sk-toggleable__content {\n",
       "  /* Expand drop-down */\n",
       "  max-height: 200px;\n",
       "  max-width: 100%;\n",
       "  overflow: auto;\n",
       "}\n",
       "\n",
       "#sk-container-id-1 input.sk-toggleable__control:checked~label.sk-toggleable__label-arrow:before {\n",
       "  content: \"▾\";\n",
       "}\n",
       "\n",
       "/* Pipeline/ColumnTransformer-specific style */\n",
       "\n",
       "#sk-container-id-1 div.sk-label input.sk-toggleable__control:checked~label.sk-toggleable__label {\n",
       "  color: var(--sklearn-color-text);\n",
       "  background-color: var(--sklearn-color-unfitted-level-2);\n",
       "}\n",
       "\n",
       "#sk-container-id-1 div.sk-label.fitted input.sk-toggleable__control:checked~label.sk-toggleable__label {\n",
       "  background-color: var(--sklearn-color-fitted-level-2);\n",
       "}\n",
       "\n",
       "/* Estimator-specific style */\n",
       "\n",
       "/* Colorize estimator box */\n",
       "#sk-container-id-1 div.sk-estimator input.sk-toggleable__control:checked~label.sk-toggleable__label {\n",
       "  /* unfitted */\n",
       "  background-color: var(--sklearn-color-unfitted-level-2);\n",
       "}\n",
       "\n",
       "#sk-container-id-1 div.sk-estimator.fitted input.sk-toggleable__control:checked~label.sk-toggleable__label {\n",
       "  /* fitted */\n",
       "  background-color: var(--sklearn-color-fitted-level-2);\n",
       "}\n",
       "\n",
       "#sk-container-id-1 div.sk-label label.sk-toggleable__label,\n",
       "#sk-container-id-1 div.sk-label label {\n",
       "  /* The background is the default theme color */\n",
       "  color: var(--sklearn-color-text-on-default-background);\n",
       "}\n",
       "\n",
       "/* On hover, darken the color of the background */\n",
       "#sk-container-id-1 div.sk-label:hover label.sk-toggleable__label {\n",
       "  color: var(--sklearn-color-text);\n",
       "  background-color: var(--sklearn-color-unfitted-level-2);\n",
       "}\n",
       "\n",
       "/* Label box, darken color on hover, fitted */\n",
       "#sk-container-id-1 div.sk-label.fitted:hover label.sk-toggleable__label.fitted {\n",
       "  color: var(--sklearn-color-text);\n",
       "  background-color: var(--sklearn-color-fitted-level-2);\n",
       "}\n",
       "\n",
       "/* Estimator label */\n",
       "\n",
       "#sk-container-id-1 div.sk-label label {\n",
       "  font-family: monospace;\n",
       "  font-weight: bold;\n",
       "  display: inline-block;\n",
       "  line-height: 1.2em;\n",
       "}\n",
       "\n",
       "#sk-container-id-1 div.sk-label-container {\n",
       "  text-align: center;\n",
       "}\n",
       "\n",
       "/* Estimator-specific */\n",
       "#sk-container-id-1 div.sk-estimator {\n",
       "  font-family: monospace;\n",
       "  border: 1px dotted var(--sklearn-color-border-box);\n",
       "  border-radius: 0.25em;\n",
       "  box-sizing: border-box;\n",
       "  margin-bottom: 0.5em;\n",
       "  /* unfitted */\n",
       "  background-color: var(--sklearn-color-unfitted-level-0);\n",
       "}\n",
       "\n",
       "#sk-container-id-1 div.sk-estimator.fitted {\n",
       "  /* fitted */\n",
       "  background-color: var(--sklearn-color-fitted-level-0);\n",
       "}\n",
       "\n",
       "/* on hover */\n",
       "#sk-container-id-1 div.sk-estimator:hover {\n",
       "  /* unfitted */\n",
       "  background-color: var(--sklearn-color-unfitted-level-2);\n",
       "}\n",
       "\n",
       "#sk-container-id-1 div.sk-estimator.fitted:hover {\n",
       "  /* fitted */\n",
       "  background-color: var(--sklearn-color-fitted-level-2);\n",
       "}\n",
       "\n",
       "/* Specification for estimator info (e.g. \"i\" and \"?\") */\n",
       "\n",
       "/* Common style for \"i\" and \"?\" */\n",
       "\n",
       ".sk-estimator-doc-link,\n",
       "a:link.sk-estimator-doc-link,\n",
       "a:visited.sk-estimator-doc-link {\n",
       "  float: right;\n",
       "  font-size: smaller;\n",
       "  line-height: 1em;\n",
       "  font-family: monospace;\n",
       "  background-color: var(--sklearn-color-background);\n",
       "  border-radius: 1em;\n",
       "  height: 1em;\n",
       "  width: 1em;\n",
       "  text-decoration: none !important;\n",
       "  margin-left: 1ex;\n",
       "  /* unfitted */\n",
       "  border: var(--sklearn-color-unfitted-level-1) 1pt solid;\n",
       "  color: var(--sklearn-color-unfitted-level-1);\n",
       "}\n",
       "\n",
       ".sk-estimator-doc-link.fitted,\n",
       "a:link.sk-estimator-doc-link.fitted,\n",
       "a:visited.sk-estimator-doc-link.fitted {\n",
       "  /* fitted */\n",
       "  border: var(--sklearn-color-fitted-level-1) 1pt solid;\n",
       "  color: var(--sklearn-color-fitted-level-1);\n",
       "}\n",
       "\n",
       "/* On hover */\n",
       "div.sk-estimator:hover .sk-estimator-doc-link:hover,\n",
       ".sk-estimator-doc-link:hover,\n",
       "div.sk-label-container:hover .sk-estimator-doc-link:hover,\n",
       ".sk-estimator-doc-link:hover {\n",
       "  /* unfitted */\n",
       "  background-color: var(--sklearn-color-unfitted-level-3);\n",
       "  color: var(--sklearn-color-background);\n",
       "  text-decoration: none;\n",
       "}\n",
       "\n",
       "div.sk-estimator.fitted:hover .sk-estimator-doc-link.fitted:hover,\n",
       ".sk-estimator-doc-link.fitted:hover,\n",
       "div.sk-label-container:hover .sk-estimator-doc-link.fitted:hover,\n",
       ".sk-estimator-doc-link.fitted:hover {\n",
       "  /* fitted */\n",
       "  background-color: var(--sklearn-color-fitted-level-3);\n",
       "  color: var(--sklearn-color-background);\n",
       "  text-decoration: none;\n",
       "}\n",
       "\n",
       "/* Span, style for the box shown on hovering the info icon */\n",
       ".sk-estimator-doc-link span {\n",
       "  display: none;\n",
       "  z-index: 9999;\n",
       "  position: relative;\n",
       "  font-weight: normal;\n",
       "  right: .2ex;\n",
       "  padding: .5ex;\n",
       "  margin: .5ex;\n",
       "  width: min-content;\n",
       "  min-width: 20ex;\n",
       "  max-width: 50ex;\n",
       "  color: var(--sklearn-color-text);\n",
       "  box-shadow: 2pt 2pt 4pt #999;\n",
       "  /* unfitted */\n",
       "  background: var(--sklearn-color-unfitted-level-0);\n",
       "  border: .5pt solid var(--sklearn-color-unfitted-level-3);\n",
       "}\n",
       "\n",
       ".sk-estimator-doc-link.fitted span {\n",
       "  /* fitted */\n",
       "  background: var(--sklearn-color-fitted-level-0);\n",
       "  border: var(--sklearn-color-fitted-level-3);\n",
       "}\n",
       "\n",
       ".sk-estimator-doc-link:hover span {\n",
       "  display: block;\n",
       "}\n",
       "\n",
       "/* \"?\"-specific style due to the `<a>` HTML tag */\n",
       "\n",
       "#sk-container-id-1 a.estimator_doc_link {\n",
       "  float: right;\n",
       "  font-size: 1rem;\n",
       "  line-height: 1em;\n",
       "  font-family: monospace;\n",
       "  background-color: var(--sklearn-color-background);\n",
       "  border-radius: 1rem;\n",
       "  height: 1rem;\n",
       "  width: 1rem;\n",
       "  text-decoration: none;\n",
       "  /* unfitted */\n",
       "  color: var(--sklearn-color-unfitted-level-1);\n",
       "  border: var(--sklearn-color-unfitted-level-1) 1pt solid;\n",
       "}\n",
       "\n",
       "#sk-container-id-1 a.estimator_doc_link.fitted {\n",
       "  /* fitted */\n",
       "  border: var(--sklearn-color-fitted-level-1) 1pt solid;\n",
       "  color: var(--sklearn-color-fitted-level-1);\n",
       "}\n",
       "\n",
       "/* On hover */\n",
       "#sk-container-id-1 a.estimator_doc_link:hover {\n",
       "  /* unfitted */\n",
       "  background-color: var(--sklearn-color-unfitted-level-3);\n",
       "  color: var(--sklearn-color-background);\n",
       "  text-decoration: none;\n",
       "}\n",
       "\n",
       "#sk-container-id-1 a.estimator_doc_link.fitted:hover {\n",
       "  /* fitted */\n",
       "  background-color: var(--sklearn-color-fitted-level-3);\n",
       "}\n",
       "</style><div id=\"sk-container-id-1\" class=\"sk-top-container\"><div class=\"sk-text-repr-fallback\"><pre>TPOTClassifier(config_dict={&#x27;sklearn.ensemble.RandomForestClassifier&#x27;: {&#x27;criterion&#x27;: [&#x27;gini&#x27;,\n",
       "                                                                                      &#x27;entropy&#x27;],\n",
       "                                                                        &#x27;max_depth&#x27;: [10,\n",
       "                                                                                      120,\n",
       "                                                                                      230,\n",
       "                                                                                      340,\n",
       "                                                                                      450,\n",
       "                                                                                      560,\n",
       "                                                                                      670,\n",
       "                                                                                      780,\n",
       "                                                                                      890,\n",
       "                                                                                      1000],\n",
       "                                                                        &#x27;max_features&#x27;: [&#x27;auto&#x27;,\n",
       "                                                                                         &#x27;sqrt&#x27;,\n",
       "                                                                                         &#x27;logs&#x27;],\n",
       "                                                                        &#x27;min_samples_leaf&#x27;: [1,\n",
       "                                                                                             2,\n",
       "                                                                                             4,\n",
       "                                                                                             6,\n",
       "                                                                                             8],\n",
       "                                                                        &#x27;min_samples_split&#x27;: [2,\n",
       "                                                                                              3,\n",
       "                                                                                              10,\n",
       "                                                                                              14],\n",
       "                                                                        &#x27;n_estimators&#x27;: [200,\n",
       "                                                                                         400,\n",
       "                                                                                         600,\n",
       "                                                                                         800,\n",
       "                                                                                         1000,\n",
       "                                                                                         1200,\n",
       "                                                                                         1400,\n",
       "                                                                                         1600,\n",
       "                                                                                         1800,\n",
       "                                                                                         2000]}},\n",
       "               cv=4, early_stop=12, generations=5, offspring_size=12,\n",
       "               population_size=24, scoring=&#x27;accuracy&#x27;, verbosity=2)</pre><b>In a Jupyter environment, please rerun this cell to show the HTML representation or trust the notebook. <br />On GitHub, the HTML representation is unable to render, please try loading this page with nbviewer.org.</b></div><div class=\"sk-container\" hidden><div class=\"sk-item\"><div class=\"sk-estimator fitted sk-toggleable\"><input class=\"sk-toggleable__control sk-hidden--visually\" id=\"sk-estimator-id-1\" type=\"checkbox\" checked><label for=\"sk-estimator-id-1\" class=\"sk-toggleable__label fitted sk-toggleable__label-arrow fitted\">&nbsp;TPOTClassifier<span class=\"sk-estimator-doc-link fitted\">i<span>Fitted</span></span></label><div class=\"sk-toggleable__content fitted\"><pre>TPOTClassifier(config_dict={&#x27;sklearn.ensemble.RandomForestClassifier&#x27;: {&#x27;criterion&#x27;: [&#x27;gini&#x27;,\n",
       "                                                                                      &#x27;entropy&#x27;],\n",
       "                                                                        &#x27;max_depth&#x27;: [10,\n",
       "                                                                                      120,\n",
       "                                                                                      230,\n",
       "                                                                                      340,\n",
       "                                                                                      450,\n",
       "                                                                                      560,\n",
       "                                                                                      670,\n",
       "                                                                                      780,\n",
       "                                                                                      890,\n",
       "                                                                                      1000],\n",
       "                                                                        &#x27;max_features&#x27;: [&#x27;auto&#x27;,\n",
       "                                                                                         &#x27;sqrt&#x27;,\n",
       "                                                                                         &#x27;logs&#x27;],\n",
       "                                                                        &#x27;min_samples_leaf&#x27;: [1,\n",
       "                                                                                             2,\n",
       "                                                                                             4,\n",
       "                                                                                             6,\n",
       "                                                                                             8],\n",
       "                                                                        &#x27;min_samples_split&#x27;: [2,\n",
       "                                                                                              3,\n",
       "                                                                                              10,\n",
       "                                                                                              14],\n",
       "                                                                        &#x27;n_estimators&#x27;: [200,\n",
       "                                                                                         400,\n",
       "                                                                                         600,\n",
       "                                                                                         800,\n",
       "                                                                                         1000,\n",
       "                                                                                         1200,\n",
       "                                                                                         1400,\n",
       "                                                                                         1600,\n",
       "                                                                                         1800,\n",
       "                                                                                         2000]}},\n",
       "               cv=4, early_stop=12, generations=5, offspring_size=12,\n",
       "               population_size=24, scoring=&#x27;accuracy&#x27;, verbosity=2)</pre></div> </div></div></div></div>"
      ],
      "text/plain": [
       "TPOTClassifier(config_dict={'sklearn.ensemble.RandomForestClassifier': {'criterion': ['gini',\n",
       "                                                                                      'entropy'],\n",
       "                                                                        'max_depth': [10,\n",
       "                                                                                      120,\n",
       "                                                                                      230,\n",
       "                                                                                      340,\n",
       "                                                                                      450,\n",
       "                                                                                      560,\n",
       "                                                                                      670,\n",
       "                                                                                      780,\n",
       "                                                                                      890,\n",
       "                                                                                      1000],\n",
       "                                                                        'max_features': ['auto',\n",
       "                                                                                         'sqrt',\n",
       "                                                                                         'logs'],\n",
       "                                                                        'min_samples_leaf': [1,\n",
       "                                                                                             2,\n",
       "                                                                                             4,\n",
       "                                                                                             6,\n",
       "                                                                                             8],\n",
       "                                                                        'min_samples_split': [2,\n",
       "                                                                                              3,\n",
       "                                                                                              10,\n",
       "                                                                                              14],\n",
       "                                                                        'n_estimators': [200,\n",
       "                                                                                         400,\n",
       "                                                                                         600,\n",
       "                                                                                         800,\n",
       "                                                                                         1000,\n",
       "                                                                                         1200,\n",
       "                                                                                         1400,\n",
       "                                                                                         1600,\n",
       "                                                                                         1800,\n",
       "                                                                                         2000]}},\n",
       "               cv=4, early_stop=12, generations=5, offspring_size=12,\n",
       "               population_size=24, scoring='accuracy', verbosity=2)"
      ]
     },
     "execution_count": 24,
     "metadata": {},
     "output_type": "execute_result"
    }
   ],
   "source": [
    "from tpot import TPOTClassifier\n",
    "\n",
    "\n",
    "tpot_classifier = TPOTClassifier(generations= 5, population_size= 24, offspring_size= 12,\n",
    "                                 verbosity= 2, early_stop= 12,\n",
    "                                 config_dict={'sklearn.ensemble.RandomForestClassifier': param}, \n",
    "                                 cv = 4, scoring = 'accuracy')\n",
    "tpot_classifier.fit(X_train,y_train)"
   ]
  },
  {
   "cell_type": "code",
   "execution_count": 25,
   "id": "8a257b30-8e21-4664-8278-4db05882f970",
   "metadata": {},
   "outputs": [
    {
     "name": "stdout",
     "output_type": "stream",
     "text": [
      "0.7662337662337663\n"
     ]
    }
   ],
   "source": [
    "accuracy = tpot_classifier.score(X_test, y_test)\n",
    "print(accuracy)"
   ]
  },
  {
   "cell_type": "markdown",
   "id": "d384cfd2-8e69-4889-b528-fdf478c2b684",
   "metadata": {},
   "source": [
    "### Optuna\n"
   ]
  },
  {
   "cell_type": "markdown",
   "id": "929488bf-4f6a-42b3-b69d-9ba723914171",
   "metadata": {},
   "source": [
    "**Similar to Hyperopt**"
   ]
  },
  {
   "cell_type": "code",
   "execution_count": 27,
   "id": "44fcd40a-dc1c-4e7d-aa9a-6152d74bc9e3",
   "metadata": {},
   "outputs": [],
   "source": [
    "import optuna\n",
    "import sklearn.svm\n",
    "def objective(trial):\n",
    "\n",
    "    classifier = trial.suggest_categorical('classifier', ['RandomForest', 'SVC'])\n",
    "    \n",
    "    if classifier == 'RandomForest':\n",
    "        n_estimators = trial.suggest_int('n_estimators', 200, 2000,10)\n",
    "        max_depth = int(trial.suggest_float('max_depth', 10, 100, log=True))\n",
    "\n",
    "        clf = sklearn.ensemble.RandomForestClassifier(\n",
    "            n_estimators=n_estimators, max_depth=max_depth)\n",
    "    else:\n",
    "        c = trial.suggest_float('svc_c', 1e-10, 1e10, log=True)\n",
    "        \n",
    "        clf = sklearn.svm.SVC(C=c, gamma='auto')\n",
    "\n",
    "    return sklearn.model_selection.cross_val_score(\n",
    "        clf,X_train,y_train, n_jobs=-1, cv=3).mean()"
   ]
  },
  {
   "cell_type": "code",
   "execution_count": 28,
   "id": "508e7b28-a1b7-4fee-a414-4d682fc56d0d",
   "metadata": {},
   "outputs": [
    {
     "name": "stderr",
     "output_type": "stream",
     "text": [
      "[I 2024-06-25 17:50:22,554] A new study created in memory with name: no-name-3760b865-3e4a-4699-aa48-c045c6cd5b13\n",
      "[I 2024-06-25 17:50:29,330] Trial 0 finished with value: 0.7736649131197195 and parameters: {'classifier': 'RandomForest', 'n_estimators': 1840, 'max_depth': 12.871241963105277}. Best is trial 0 with value: 0.7736649131197195.\n",
      "[I 2024-06-25 17:50:33,299] Trial 1 finished with value: 0.7687788936712897 and parameters: {'classifier': 'RandomForest', 'n_estimators': 1130, 'max_depth': 10.681870651456311}. Best is trial 0 with value: 0.7736649131197195.\n",
      "[I 2024-06-25 17:50:35,424] Trial 2 finished with value: 0.772030926191615 and parameters: {'classifier': 'RandomForest', 'n_estimators': 280, 'max_depth': 57.42401360079446}. Best is trial 0 with value: 0.7736649131197195.\n",
      "[I 2024-06-25 17:50:36,362] Trial 3 finished with value: 0.7703809979276263 and parameters: {'classifier': 'RandomForest', 'n_estimators': 370, 'max_depth': 19.334830820000853}. Best is trial 0 with value: 0.7736649131197195.\n",
      "[I 2024-06-25 17:50:36,475] Trial 4 finished with value: 0.6530926191614858 and parameters: {'classifier': 'SVC', 'svc_c': 2.4142638739978044}. Best is trial 0 with value: 0.7736649131197195.\n",
      "[I 2024-06-25 17:50:37,607] Trial 5 finished with value: 0.772030926191615 and parameters: {'classifier': 'RandomForest', 'n_estimators': 410, 'max_depth': 19.32107721783651}. Best is trial 0 with value: 0.7736649131197195.\n",
      "[I 2024-06-25 17:50:38,945] Trial 6 finished with value: 0.767144906743185 and parameters: {'classifier': 'RandomForest', 'n_estimators': 530, 'max_depth': 23.446902841232298}. Best is trial 0 with value: 0.7736649131197195.\n",
      "[I 2024-06-25 17:50:39,000] Trial 7 finished with value: 0.6530926191614858 and parameters: {'classifier': 'SVC', 'svc_c': 2.9217740420877024e-06}. Best is trial 0 with value: 0.7736649131197195.\n",
      "[I 2024-06-25 17:50:40,434] Trial 8 finished with value: 0.7671528774111271 and parameters: {'classifier': 'RandomForest', 'n_estimators': 580, 'max_depth': 53.790726844665826}. Best is trial 0 with value: 0.7736649131197195.\n",
      "[I 2024-06-25 17:50:43,133] Trial 9 finished with value: 0.772030926191615 and parameters: {'classifier': 'RandomForest', 'n_estimators': 1160, 'max_depth': 21.41975691536068}. Best is trial 0 with value: 0.7736649131197195.\n",
      "[I 2024-06-25 17:50:43,228] Trial 10 finished with value: 0.6530926191614858 and parameters: {'classifier': 'SVC', 'svc_c': 8754422908.6055}. Best is trial 0 with value: 0.7736649131197195.\n",
      "[I 2024-06-25 17:50:47,562] Trial 11 finished with value: 0.772030926191615 and parameters: {'classifier': 'RandomForest', 'n_estimators': 1990, 'max_depth': 98.24540662938624}. Best is trial 0 with value: 0.7736649131197195.\n",
      "[I 2024-06-25 17:50:51,794] Trial 12 finished with value: 0.7687709230033476 and parameters: {'classifier': 'RandomForest', 'n_estimators': 1950, 'max_depth': 46.29791249248186}. Best is trial 0 with value: 0.7736649131197195.\n",
      "[I 2024-06-25 17:50:55,680] Trial 13 finished with value: 0.7752909293798821 and parameters: {'classifier': 'RandomForest', 'n_estimators': 1550, 'max_depth': 10.106876711223661}. Best is trial 13 with value: 0.7752909293798821.\n",
      "[I 2024-06-25 17:50:55,758] Trial 14 finished with value: 0.6530926191614858 and parameters: {'classifier': 'SVC', 'svc_c': 2.6486656157177393e-10}. Best is trial 13 with value: 0.7752909293798821.\n",
      "[I 2024-06-25 17:50:59,303] Trial 15 finished with value: 0.772038896859557 and parameters: {'classifier': 'RandomForest', 'n_estimators': 1550, 'max_depth': 10.598458659480155}. Best is trial 13 with value: 0.7752909293798821.\n",
      "[I 2024-06-25 17:51:02,912] Trial 16 finished with value: 0.767144906743185 and parameters: {'classifier': 'RandomForest', 'n_estimators': 1630, 'max_depth': 13.686281299400251}. Best is trial 13 with value: 0.7752909293798821.\n",
      "[I 2024-06-25 17:51:06,083] Trial 17 finished with value: 0.7639008448908019 and parameters: {'classifier': 'RandomForest', 'n_estimators': 1550, 'max_depth': 14.010539199990468}. Best is trial 13 with value: 0.7752909293798821.\n",
      "[I 2024-06-25 17:51:06,148] Trial 18 finished with value: 0.6530926191614858 and parameters: {'classifier': 'SVC', 'svc_c': 1663216329.7518604}. Best is trial 13 with value: 0.7752909293798821.\n",
      "[I 2024-06-25 17:51:10,530] Trial 19 finished with value: 0.772038896859557 and parameters: {'classifier': 'RandomForest', 'n_estimators': 1740, 'max_depth': 32.18788836018969}. Best is trial 13 with value: 0.7752909293798821.\n",
      "[I 2024-06-25 17:51:13,711] Trial 20 finished with value: 0.7671528774111271 and parameters: {'classifier': 'RandomForest', 'n_estimators': 1270, 'max_depth': 14.92213169905431}. Best is trial 13 with value: 0.7752909293798821.\n",
      "[I 2024-06-25 17:51:16,899] Trial 21 finished with value: 0.7736649131197195 and parameters: {'classifier': 'RandomForest', 'n_estimators': 1430, 'max_depth': 10.197396541266045}. Best is trial 13 with value: 0.7752909293798821.\n",
      "[I 2024-06-25 17:51:20,062] Trial 22 finished with value: 0.7671528774111271 and parameters: {'classifier': 'RandomForest', 'n_estimators': 1370, 'max_depth': 10.14832792343698}. Best is trial 13 with value: 0.7752909293798821.\n",
      "[I 2024-06-25 17:51:22,211] Trial 23 finished with value: 0.767144906743185 and parameters: {'classifier': 'RandomForest', 'n_estimators': 920, 'max_depth': 13.3479518959209}. Best is trial 13 with value: 0.7752909293798821.\n",
      "[I 2024-06-25 17:51:26,677] Trial 24 finished with value: 0.7704128805993943 and parameters: {'classifier': 'RandomForest', 'n_estimators': 1790, 'max_depth': 10.018320026882954}. Best is trial 13 with value: 0.7752909293798821.\n",
      "[I 2024-06-25 17:51:30,791] Trial 25 finished with value: 0.7687629523354057 and parameters: {'classifier': 'RandomForest', 'n_estimators': 1420, 'max_depth': 16.181324649461303}. Best is trial 13 with value: 0.7752909293798821.\n",
      "[I 2024-06-25 17:51:30,878] Trial 26 finished with value: 0.6530926191614858 and parameters: {'classifier': 'SVC', 'svc_c': 74.58613333951673}. Best is trial 13 with value: 0.7752909293798821.\n",
      "[I 2024-06-25 17:51:33,647] Trial 27 finished with value: 0.7687709230033476 and parameters: {'classifier': 'RandomForest', 'n_estimators': 910, 'max_depth': 28.582023317762484}. Best is trial 13 with value: 0.7752909293798821.\n",
      "[I 2024-06-25 17:51:38,330] Trial 28 finished with value: 0.772038896859557 and parameters: {'classifier': 'RandomForest', 'n_estimators': 1790, 'max_depth': 11.475673389103168}. Best is trial 13 with value: 0.7752909293798821.\n",
      "[I 2024-06-25 17:51:41,656] Trial 29 finished with value: 0.7704128805993943 and parameters: {'classifier': 'RandomForest', 'n_estimators': 1430, 'max_depth': 17.13518153133018}. Best is trial 13 with value: 0.7752909293798821.\n",
      "[I 2024-06-25 17:51:45,153] Trial 30 finished with value: 0.7752909293798821 and parameters: {'classifier': 'RandomForest', 'n_estimators': 1650, 'max_depth': 12.249712924113386}. Best is trial 13 with value: 0.7752909293798821.\n",
      "[I 2024-06-25 17:51:48,371] Trial 31 finished with value: 0.767144906743185 and parameters: {'classifier': 'RandomForest', 'n_estimators': 1670, 'max_depth': 12.625170308956259}. Best is trial 13 with value: 0.7752909293798821.\n",
      "[I 2024-06-25 17:51:51,996] Trial 32 finished with value: 0.7703969392635103 and parameters: {'classifier': 'RandomForest', 'n_estimators': 1870, 'max_depth': 12.396679300247945}. Best is trial 13 with value: 0.7752909293798821.\n",
      "[I 2024-06-25 17:51:55,081] Trial 33 finished with value: 0.7704049099314524 and parameters: {'classifier': 'RandomForest', 'n_estimators': 1580, 'max_depth': 16.18972887276188}. Best is trial 13 with value: 0.7752909293798821.\n",
      "[I 2024-06-25 17:51:58,383] Trial 34 finished with value: 0.7720229555236728 and parameters: {'classifier': 'RandomForest', 'n_estimators': 1340, 'max_depth': 12.306039113214045}. Best is trial 13 with value: 0.7752909293798821.\n",
      "[I 2024-06-25 17:52:01,517] Trial 35 finished with value: 0.7704049099314524 and parameters: {'classifier': 'RandomForest', 'n_estimators': 1480, 'max_depth': 11.491629983253322}. Best is trial 13 with value: 0.7752909293798821.\n",
      "[I 2024-06-25 17:52:03,852] Trial 36 finished with value: 0.7655188904830225 and parameters: {'classifier': 'RandomForest', 'n_estimators': 1200, 'max_depth': 10.246839346260696}. Best is trial 13 with value: 0.7752909293798821.\n",
      "[I 2024-06-25 17:52:03,917] Trial 37 finished with value: 0.6530926191614858 and parameters: {'classifier': 'SVC', 'svc_c': 6880.656865612746}. Best is trial 13 with value: 0.7752909293798821.\n",
      "[I 2024-06-25 17:52:06,163] Trial 38 finished with value: 0.767144906743185 and parameters: {'classifier': 'RandomForest', 'n_estimators': 1070, 'max_depth': 27.87071246960305}. Best is trial 13 with value: 0.7752909293798821.\n",
      "[I 2024-06-25 17:52:10,096] Trial 39 finished with value: 0.7720149848557308 and parameters: {'classifier': 'RandomForest', 'n_estimators': 1690, 'max_depth': 14.606325365382089}. Best is trial 13 with value: 0.7752909293798821.\n",
      "[I 2024-06-25 17:52:14,580] Trial 40 finished with value: 0.7671289654073011 and parameters: {'classifier': 'RandomForest', 'n_estimators': 1870, 'max_depth': 18.24071027933192}. Best is trial 13 with value: 0.7752909293798821.\n",
      "[I 2024-06-25 17:52:18,046] Trial 41 finished with value: 0.7704208512673363 and parameters: {'classifier': 'RandomForest', 'n_estimators': 1530, 'max_depth': 11.353521735598065}. Best is trial 13 with value: 0.7752909293798821.\n",
      "[I 2024-06-25 17:52:21,135] Trial 42 finished with value: 0.7704128805993943 and parameters: {'classifier': 'RandomForest', 'n_estimators': 1630, 'max_depth': 10.122748996757297}. Best is trial 13 with value: 0.7752909293798821.\n",
      "[I 2024-06-25 17:52:24,727] Trial 43 finished with value: 0.7687788936712897 and parameters: {'classifier': 'RandomForest', 'n_estimators': 1840, 'max_depth': 11.677747649099684}. Best is trial 13 with value: 0.7752909293798821.\n",
      "[I 2024-06-25 17:52:27,672] Trial 44 finished with value: 0.7736649131197195 and parameters: {'classifier': 'RandomForest', 'n_estimators': 1500, 'max_depth': 14.959483849663146}. Best is trial 13 with value: 0.7752909293798821.\n",
      "[I 2024-06-25 17:52:27,745] Trial 45 finished with value: 0.6530926191614858 and parameters: {'classifier': 'SVC', 'svc_c': 1.4551471122828238e-05}. Best is trial 13 with value: 0.7752909293798821.\n",
      "[I 2024-06-25 17:52:30,217] Trial 46 finished with value: 0.7655109198150805 and parameters: {'classifier': 'RandomForest', 'n_estimators': 1060, 'max_depth': 20.46316435204094}. Best is trial 13 with value: 0.7752909293798821.\n",
      "[I 2024-06-25 17:52:32,978] Trial 47 finished with value: 0.7687709230033476 and parameters: {'classifier': 'RandomForest', 'n_estimators': 1290, 'max_depth': 15.400653768913877}. Best is trial 13 with value: 0.7752909293798821.\n",
      "[I 2024-06-25 17:52:36,949] Trial 48 finished with value: 0.767144906743185 and parameters: {'classifier': 'RandomForest', 'n_estimators': 1730, 'max_depth': 13.09551631405664}. Best is trial 13 with value: 0.7752909293798821.\n",
      "[I 2024-06-25 17:52:37,027] Trial 49 finished with value: 0.6530926191614858 and parameters: {'classifier': 'SVC', 'svc_c': 254546.26901219104}. Best is trial 13 with value: 0.7752909293798821.\n",
      "[I 2024-06-25 17:52:41,006] Trial 50 finished with value: 0.7720468675274988 and parameters: {'classifier': 'RandomForest', 'n_estimators': 1980, 'max_depth': 40.02426485529089}. Best is trial 13 with value: 0.7752909293798821.\n",
      "[I 2024-06-25 17:52:45,525] Trial 51 finished with value: 0.7704049099314524 and parameters: {'classifier': 'RandomForest', 'n_estimators': 1990, 'max_depth': 38.9828993207956}. Best is trial 13 with value: 0.7752909293798821.\n",
      "[I 2024-06-25 17:52:50,625] Trial 52 finished with value: 0.7687788936712897 and parameters: {'classifier': 'RandomForest', 'n_estimators': 1920, 'max_depth': 74.61874420700725}. Best is trial 13 with value: 0.7752909293798821.\n",
      "[I 2024-06-25 17:52:54,787] Trial 53 finished with value: 0.7687868643392317 and parameters: {'classifier': 'RandomForest', 'n_estimators': 1480, 'max_depth': 45.63244542947005}. Best is trial 13 with value: 0.7752909293798821.\n",
      "[I 2024-06-25 17:52:59,328] Trial 54 finished with value: 0.7687868643392317 and parameters: {'classifier': 'RandomForest', 'n_estimators': 1810, 'max_depth': 37.951155243785465}. Best is trial 13 with value: 0.7752909293798821.\n",
      "[I 2024-06-25 17:53:03,818] Trial 55 finished with value: 0.767144906743185 and parameters: {'classifier': 'RandomForest', 'n_estimators': 1640, 'max_depth': 23.183430213272658}. Best is trial 13 with value: 0.7752909293798821.\n",
      "[I 2024-06-25 17:53:08,558] Trial 56 finished with value: 0.7638928742228598 and parameters: {'classifier': 'RandomForest', 'n_estimators': 1920, 'max_depth': 53.07603172034313}. Best is trial 13 with value: 0.7752909293798821.\n",
      "[I 2024-06-25 17:53:12,657] Trial 57 finished with value: 0.7720229555236728 and parameters: {'classifier': 'RandomForest', 'n_estimators': 1740, 'max_depth': 37.538956729965115}. Best is trial 13 with value: 0.7752909293798821.\n",
      "[I 2024-06-25 17:53:16,598] Trial 58 finished with value: 0.7687788936712897 and parameters: {'classifier': 'RandomForest', 'n_estimators': 1580, 'max_depth': 11.334998775711462}. Best is trial 13 with value: 0.7752909293798821.\n",
      "[I 2024-06-25 17:53:16,675] Trial 59 finished with value: 0.6530926191614858 and parameters: {'classifier': 'SVC', 'svc_c': 0.0004712827186899029}. Best is trial 13 with value: 0.7752909293798821.\n",
      "[I 2024-06-25 17:53:20,620] Trial 60 finished with value: 0.772030926191615 and parameters: {'classifier': 'RandomForest', 'n_estimators': 1460, 'max_depth': 14.243639035359779}. Best is trial 13 with value: 0.7752909293798821.\n",
      "[I 2024-06-25 17:53:24,385] Trial 61 finished with value: 0.7785509325681493 and parameters: {'classifier': 'RandomForest', 'n_estimators': 1540, 'max_depth': 10.906874632415755}. Best is trial 61 with value: 0.7785509325681493.\n",
      "[I 2024-06-25 17:53:24,975] Trial 62 finished with value: 0.7736728837876615 and parameters: {'classifier': 'RandomForest', 'n_estimators': 200, 'max_depth': 13.27137944573322}. Best is trial 61 with value: 0.7785509325681493.\n",
      "[I 2024-06-25 17:53:26,457] Trial 63 finished with value: 0.7687788936712897 and parameters: {'classifier': 'RandomForest', 'n_estimators': 600, 'max_depth': 13.455300819430114}. Best is trial 61 with value: 0.7785509325681493.\n",
      "[I 2024-06-25 17:53:27,166] Trial 64 finished with value: 0.7736569424517775 and parameters: {'classifier': 'RandomForest', 'n_estimators': 280, 'max_depth': 10.840030643736874}. Best is trial 61 with value: 0.7785509325681493.\n",
      "[I 2024-06-25 17:53:29,133] Trial 65 finished with value: 0.7720548381954409 and parameters: {'classifier': 'RandomForest', 'n_estimators': 780, 'max_depth': 12.349380275375095}. Best is trial 61 with value: 0.7785509325681493.\n",
      "[I 2024-06-25 17:53:32,816] Trial 66 finished with value: 0.767136936075243 and parameters: {'classifier': 'RandomForest', 'n_estimators': 1360, 'max_depth': 17.38649810258332}. Best is trial 61 with value: 0.7785509325681493.\n",
      "[I 2024-06-25 17:53:34,163] Trial 67 finished with value: 0.7769328869759287 and parameters: {'classifier': 'RandomForest', 'n_estimators': 480, 'max_depth': 10.830668409996857}. Best is trial 61 with value: 0.7785509325681493.\n",
      "[I 2024-06-25 17:53:35,217] Trial 68 finished with value: 0.7704049099314524 and parameters: {'classifier': 'RandomForest', 'n_estimators': 370, 'max_depth': 10.895157435347846}. Best is trial 61 with value: 0.7785509325681493.\n",
      "[I 2024-06-25 17:53:35,975] Trial 69 finished with value: 0.7720229555236728 and parameters: {'classifier': 'RandomForest', 'n_estimators': 250, 'max_depth': 12.272251272725798}. Best is trial 61 with value: 0.7785509325681493.\n",
      "[I 2024-06-25 17:53:36,908] Trial 70 finished with value: 0.7638928742228598 and parameters: {'classifier': 'RandomForest', 'n_estimators': 330, 'max_depth': 13.276679215671988}. Best is trial 61 with value: 0.7785509325681493.\n",
      "[I 2024-06-25 17:53:38,538] Trial 71 finished with value: 0.7704049099314524 and parameters: {'classifier': 'RandomForest', 'n_estimators': 630, 'max_depth': 10.849402859353159}. Best is trial 61 with value: 0.7785509325681493.\n",
      "[I 2024-06-25 17:53:39,903] Trial 72 finished with value: 0.7655029491471385 and parameters: {'classifier': 'RandomForest', 'n_estimators': 430, 'max_depth': 10.007811647245715}. Best is trial 61 with value: 0.7785509325681493.\n",
      "[I 2024-06-25 17:53:44,167] Trial 73 finished with value: 0.7638769328869759 and parameters: {'classifier': 'RandomForest', 'n_estimators': 1520, 'max_depth': 15.468880504289876}. Best is trial 61 with value: 0.7785509325681493.\n",
      "[I 2024-06-25 17:53:45,258] Trial 74 finished with value: 0.772038896859557 and parameters: {'classifier': 'RandomForest', 'n_estimators': 460, 'max_depth': 14.184945122391753}. Best is trial 61 with value: 0.7785509325681493.\n",
      "[I 2024-06-25 17:53:47,108] Trial 75 finished with value: 0.7704049099314524 and parameters: {'classifier': 'RandomForest', 'n_estimators': 670, 'max_depth': 12.087509991504465}. Best is trial 61 with value: 0.7785509325681493.\n",
      "[I 2024-06-25 17:53:47,183] Trial 76 finished with value: 0.6530926191614858 and parameters: {'classifier': 'SVC', 'svc_c': 3.385397362202822e-10}. Best is trial 61 with value: 0.7785509325681493.\n",
      "[I 2024-06-25 17:53:48,026] Trial 77 finished with value: 0.7736569424517775 and parameters: {'classifier': 'RandomForest', 'n_estimators': 210, 'max_depth': 10.83557558913438}. Best is trial 61 with value: 0.7785509325681493.\n",
      "[I 2024-06-25 17:53:52,091] Trial 78 finished with value: 0.7752909293798821 and parameters: {'classifier': 'RandomForest', 'n_estimators': 1400, 'max_depth': 12.79314140518851}. Best is trial 61 with value: 0.7785509325681493.\n",
      "[I 2024-06-25 17:53:55,048] Trial 79 finished with value: 0.7687709230033476 and parameters: {'classifier': 'RandomForest', 'n_estimators': 1240, 'max_depth': 12.689881925350567}. Best is trial 61 with value: 0.7785509325681493.\n",
      "[I 2024-06-25 17:53:58,348] Trial 80 finished with value: 0.7704049099314524 and parameters: {'classifier': 'RandomForest', 'n_estimators': 1390, 'max_depth': 11.75302364519521}. Best is trial 61 with value: 0.7785509325681493.\n",
      "[I 2024-06-25 17:54:01,889] Trial 81 finished with value: 0.7752909293798821 and parameters: {'classifier': 'RandomForest', 'n_estimators': 1140, 'max_depth': 16.53846437200153}. Best is trial 61 with value: 0.7785509325681493.\n",
      "[I 2024-06-25 17:54:05,146] Trial 82 finished with value: 0.7687948350071737 and parameters: {'classifier': 'RandomForest', 'n_estimators': 1160, 'max_depth': 13.280698270696016}. Best is trial 61 with value: 0.7785509325681493.\n",
      "[I 2024-06-25 17:54:08,101] Trial 83 finished with value: 0.7687629523354057 and parameters: {'classifier': 'RandomForest', 'n_estimators': 980, 'max_depth': 16.317435273988693}. Best is trial 61 with value: 0.7785509325681493.\n",
      "[I 2024-06-25 17:54:10,542] Trial 84 finished with value: 0.7736808544556034 and parameters: {'classifier': 'RandomForest', 'n_estimators': 830, 'max_depth': 10.687489368990414}. Best is trial 61 with value: 0.7785509325681493.\n",
      "[I 2024-06-25 17:54:13,058] Trial 85 finished with value: 0.7687709230033476 and parameters: {'classifier': 'RandomForest', 'n_estimators': 840, 'max_depth': 11.40898492305142}. Best is trial 61 with value: 0.7785509325681493.\n",
      "[I 2024-06-25 17:54:15,157] Trial 86 finished with value: 0.7736728837876615 and parameters: {'classifier': 'RandomForest', 'n_estimators': 750, 'max_depth': 14.131902957800063}. Best is trial 61 with value: 0.7785509325681493.\n",
      "[I 2024-06-25 17:54:16,524] Trial 87 finished with value: 0.767144906743185 and parameters: {'classifier': 'RandomForest', 'n_estimators': 530, 'max_depth': 19.344678488553186}. Best is trial 61 with value: 0.7785509325681493.\n",
      "[I 2024-06-25 17:54:17,858] Trial 88 finished with value: 0.7687788936712897 and parameters: {'classifier': 'RandomForest', 'n_estimators': 520, 'max_depth': 13.997605539168479}. Best is trial 61 with value: 0.7785509325681493.\n",
      "[I 2024-06-25 17:54:19,762] Trial 89 finished with value: 0.7704049099314524 and parameters: {'classifier': 'RandomForest', 'n_estimators': 710, 'max_depth': 10.564815957649522}. Best is trial 61 with value: 0.7785509325681493.\n",
      "[I 2024-06-25 17:54:19,866] Trial 90 finished with value: 0.6530926191614858 and parameters: {'classifier': 'SVC', 'svc_c': 0.008115389158082598}. Best is trial 61 with value: 0.7785509325681493.\n",
      "[I 2024-06-25 17:54:22,514] Trial 91 finished with value: 0.767144906743185 and parameters: {'classifier': 'RandomForest', 'n_estimators': 930, 'max_depth': 12.596154995058031}. Best is trial 61 with value: 0.7785509325681493.\n",
      "[I 2024-06-25 17:54:25,125] Trial 92 finished with value: 0.7720468675274988 and parameters: {'classifier': 'RandomForest', 'n_estimators': 1000, 'max_depth': 15.259979393033207}. Best is trial 61 with value: 0.7785509325681493.\n",
      "[I 2024-06-25 17:54:26,973] Trial 93 finished with value: 0.7704049099314524 and parameters: {'classifier': 'RandomForest', 'n_estimators': 790, 'max_depth': 11.86934443869566}. Best is trial 61 with value: 0.7785509325681493.\n",
      "[I 2024-06-25 17:54:31,018] Trial 94 finished with value: 0.7687788936712897 and parameters: {'classifier': 'RandomForest', 'n_estimators': 1700, 'max_depth': 13.567494653192066}. Best is trial 61 with value: 0.7785509325681493.\n",
      "[I 2024-06-25 17:54:34,763] Trial 95 finished with value: 0.7704049099314524 and parameters: {'classifier': 'RandomForest', 'n_estimators': 1590, 'max_depth': 11.033392131152558}. Best is trial 61 with value: 0.7785509325681493.\n",
      "[I 2024-06-25 17:54:37,089] Trial 96 finished with value: 0.7736569424517775 and parameters: {'classifier': 'RandomForest', 'n_estimators': 860, 'max_depth': 16.893819661506875}. Best is trial 61 with value: 0.7785509325681493.\n",
      "[I 2024-06-25 17:54:40,264] Trial 97 finished with value: 0.7671528774111271 and parameters: {'classifier': 'RandomForest', 'n_estimators': 1120, 'max_depth': 12.927538522128083}. Best is trial 61 with value: 0.7785509325681493.\n",
      "[I 2024-06-25 17:54:42,125] Trial 98 finished with value: 0.7736649131197195 and parameters: {'classifier': 'RandomForest', 'n_estimators': 750, 'max_depth': 10.45412230097422}. Best is trial 61 with value: 0.7785509325681493.\n",
      "[I 2024-06-25 17:54:45,997] Trial 99 finished with value: 0.7736569424517775 and parameters: {'classifier': 'RandomForest', 'n_estimators': 1620, 'max_depth': 14.371411009349828}. Best is trial 61 with value: 0.7785509325681493.\n"
     ]
    },
    {
     "name": "stdout",
     "output_type": "stream",
     "text": [
      "Accuracy: 0.7785509325681493\n",
      "Best hyperparameters: {'classifier': 'RandomForest', 'n_estimators': 1540, 'max_depth': 10.906874632415755}\n"
     ]
    }
   ],
   "source": [
    "study = optuna.create_study(direction='maximize')\n",
    "study.optimize(objective, n_trials=100)\n",
    "\n",
    "trial = study.best_trial\n",
    "\n",
    "print('Accuracy: {}'.format(trial.value))\n",
    "print(\"Best hyperparameters: {}\".format(trial.params))"
   ]
  },
  {
   "cell_type": "code",
   "execution_count": 29,
   "id": "fd4dce1d-b95c-498f-b170-dcdf47ce9b26",
   "metadata": {},
   "outputs": [
    {
     "data": {
      "text/plain": [
       "FrozenTrial(number=61, state=TrialState.COMPLETE, values=[0.7785509325681493], datetime_start=datetime.datetime(2024, 6, 25, 17, 53, 20, 620923), datetime_complete=datetime.datetime(2024, 6, 25, 17, 53, 24, 385448), params={'classifier': 'RandomForest', 'n_estimators': 1540, 'max_depth': 10.906874632415755}, user_attrs={}, system_attrs={}, intermediate_values={}, distributions={'classifier': CategoricalDistribution(choices=('RandomForest', 'SVC')), 'n_estimators': IntDistribution(high=2000, log=False, low=200, step=10), 'max_depth': FloatDistribution(high=100.0, log=True, low=10.0, step=None)}, trial_id=61, value=None)"
      ]
     },
     "execution_count": 29,
     "metadata": {},
     "output_type": "execute_result"
    }
   ],
   "source": [
    "trial"
   ]
  },
  {
   "cell_type": "code",
   "execution_count": 30,
   "id": "e8ae3602-d043-4b46-aeb5-6b411207ec74",
   "metadata": {},
   "outputs": [
    {
     "data": {
      "text/plain": [
       "{'classifier': 'RandomForest',\n",
       " 'n_estimators': 1540,\n",
       " 'max_depth': 10.906874632415755}"
      ]
     },
     "execution_count": 30,
     "metadata": {},
     "output_type": "execute_result"
    }
   ],
   "source": [
    "study.best_params"
   ]
  },
  {
   "cell_type": "code",
   "execution_count": 31,
   "id": "f6dbe66d-26da-4454-91d6-03da8e42536d",
   "metadata": {},
   "outputs": [
    {
     "data": {
      "text/html": [
       "<style>#sk-container-id-2 {\n",
       "  /* Definition of color scheme common for light and dark mode */\n",
       "  --sklearn-color-text: black;\n",
       "  --sklearn-color-line: gray;\n",
       "  /* Definition of color scheme for unfitted estimators */\n",
       "  --sklearn-color-unfitted-level-0: #fff5e6;\n",
       "  --sklearn-color-unfitted-level-1: #f6e4d2;\n",
       "  --sklearn-color-unfitted-level-2: #ffe0b3;\n",
       "  --sklearn-color-unfitted-level-3: chocolate;\n",
       "  /* Definition of color scheme for fitted estimators */\n",
       "  --sklearn-color-fitted-level-0: #f0f8ff;\n",
       "  --sklearn-color-fitted-level-1: #d4ebff;\n",
       "  --sklearn-color-fitted-level-2: #b3dbfd;\n",
       "  --sklearn-color-fitted-level-3: cornflowerblue;\n",
       "\n",
       "  /* Specific color for light theme */\n",
       "  --sklearn-color-text-on-default-background: var(--sg-text-color, var(--theme-code-foreground, var(--jp-content-font-color1, black)));\n",
       "  --sklearn-color-background: var(--sg-background-color, var(--theme-background, var(--jp-layout-color0, white)));\n",
       "  --sklearn-color-border-box: var(--sg-text-color, var(--theme-code-foreground, var(--jp-content-font-color1, black)));\n",
       "  --sklearn-color-icon: #696969;\n",
       "\n",
       "  @media (prefers-color-scheme: dark) {\n",
       "    /* Redefinition of color scheme for dark theme */\n",
       "    --sklearn-color-text-on-default-background: var(--sg-text-color, var(--theme-code-foreground, var(--jp-content-font-color1, white)));\n",
       "    --sklearn-color-background: var(--sg-background-color, var(--theme-background, var(--jp-layout-color0, #111)));\n",
       "    --sklearn-color-border-box: var(--sg-text-color, var(--theme-code-foreground, var(--jp-content-font-color1, white)));\n",
       "    --sklearn-color-icon: #878787;\n",
       "  }\n",
       "}\n",
       "\n",
       "#sk-container-id-2 {\n",
       "  color: var(--sklearn-color-text);\n",
       "}\n",
       "\n",
       "#sk-container-id-2 pre {\n",
       "  padding: 0;\n",
       "}\n",
       "\n",
       "#sk-container-id-2 input.sk-hidden--visually {\n",
       "  border: 0;\n",
       "  clip: rect(1px 1px 1px 1px);\n",
       "  clip: rect(1px, 1px, 1px, 1px);\n",
       "  height: 1px;\n",
       "  margin: -1px;\n",
       "  overflow: hidden;\n",
       "  padding: 0;\n",
       "  position: absolute;\n",
       "  width: 1px;\n",
       "}\n",
       "\n",
       "#sk-container-id-2 div.sk-dashed-wrapped {\n",
       "  border: 1px dashed var(--sklearn-color-line);\n",
       "  margin: 0 0.4em 0.5em 0.4em;\n",
       "  box-sizing: border-box;\n",
       "  padding-bottom: 0.4em;\n",
       "  background-color: var(--sklearn-color-background);\n",
       "}\n",
       "\n",
       "#sk-container-id-2 div.sk-container {\n",
       "  /* jupyter's `normalize.less` sets `[hidden] { display: none; }`\n",
       "     but bootstrap.min.css set `[hidden] { display: none !important; }`\n",
       "     so we also need the `!important` here to be able to override the\n",
       "     default hidden behavior on the sphinx rendered scikit-learn.org.\n",
       "     See: https://github.com/scikit-learn/scikit-learn/issues/21755 */\n",
       "  display: inline-block !important;\n",
       "  position: relative;\n",
       "}\n",
       "\n",
       "#sk-container-id-2 div.sk-text-repr-fallback {\n",
       "  display: none;\n",
       "}\n",
       "\n",
       "div.sk-parallel-item,\n",
       "div.sk-serial,\n",
       "div.sk-item {\n",
       "  /* draw centered vertical line to link estimators */\n",
       "  background-image: linear-gradient(var(--sklearn-color-text-on-default-background), var(--sklearn-color-text-on-default-background));\n",
       "  background-size: 2px 100%;\n",
       "  background-repeat: no-repeat;\n",
       "  background-position: center center;\n",
       "}\n",
       "\n",
       "/* Parallel-specific style estimator block */\n",
       "\n",
       "#sk-container-id-2 div.sk-parallel-item::after {\n",
       "  content: \"\";\n",
       "  width: 100%;\n",
       "  border-bottom: 2px solid var(--sklearn-color-text-on-default-background);\n",
       "  flex-grow: 1;\n",
       "}\n",
       "\n",
       "#sk-container-id-2 div.sk-parallel {\n",
       "  display: flex;\n",
       "  align-items: stretch;\n",
       "  justify-content: center;\n",
       "  background-color: var(--sklearn-color-background);\n",
       "  position: relative;\n",
       "}\n",
       "\n",
       "#sk-container-id-2 div.sk-parallel-item {\n",
       "  display: flex;\n",
       "  flex-direction: column;\n",
       "}\n",
       "\n",
       "#sk-container-id-2 div.sk-parallel-item:first-child::after {\n",
       "  align-self: flex-end;\n",
       "  width: 50%;\n",
       "}\n",
       "\n",
       "#sk-container-id-2 div.sk-parallel-item:last-child::after {\n",
       "  align-self: flex-start;\n",
       "  width: 50%;\n",
       "}\n",
       "\n",
       "#sk-container-id-2 div.sk-parallel-item:only-child::after {\n",
       "  width: 0;\n",
       "}\n",
       "\n",
       "/* Serial-specific style estimator block */\n",
       "\n",
       "#sk-container-id-2 div.sk-serial {\n",
       "  display: flex;\n",
       "  flex-direction: column;\n",
       "  align-items: center;\n",
       "  background-color: var(--sklearn-color-background);\n",
       "  padding-right: 1em;\n",
       "  padding-left: 1em;\n",
       "}\n",
       "\n",
       "\n",
       "/* Toggleable style: style used for estimator/Pipeline/ColumnTransformer box that is\n",
       "clickable and can be expanded/collapsed.\n",
       "- Pipeline and ColumnTransformer use this feature and define the default style\n",
       "- Estimators will overwrite some part of the style using the `sk-estimator` class\n",
       "*/\n",
       "\n",
       "/* Pipeline and ColumnTransformer style (default) */\n",
       "\n",
       "#sk-container-id-2 div.sk-toggleable {\n",
       "  /* Default theme specific background. It is overwritten whether we have a\n",
       "  specific estimator or a Pipeline/ColumnTransformer */\n",
       "  background-color: var(--sklearn-color-background);\n",
       "}\n",
       "\n",
       "/* Toggleable label */\n",
       "#sk-container-id-2 label.sk-toggleable__label {\n",
       "  cursor: pointer;\n",
       "  display: block;\n",
       "  width: 100%;\n",
       "  margin-bottom: 0;\n",
       "  padding: 0.5em;\n",
       "  box-sizing: border-box;\n",
       "  text-align: center;\n",
       "}\n",
       "\n",
       "#sk-container-id-2 label.sk-toggleable__label-arrow:before {\n",
       "  /* Arrow on the left of the label */\n",
       "  content: \"▸\";\n",
       "  float: left;\n",
       "  margin-right: 0.25em;\n",
       "  color: var(--sklearn-color-icon);\n",
       "}\n",
       "\n",
       "#sk-container-id-2 label.sk-toggleable__label-arrow:hover:before {\n",
       "  color: var(--sklearn-color-text);\n",
       "}\n",
       "\n",
       "/* Toggleable content - dropdown */\n",
       "\n",
       "#sk-container-id-2 div.sk-toggleable__content {\n",
       "  max-height: 0;\n",
       "  max-width: 0;\n",
       "  overflow: hidden;\n",
       "  text-align: left;\n",
       "  /* unfitted */\n",
       "  background-color: var(--sklearn-color-unfitted-level-0);\n",
       "}\n",
       "\n",
       "#sk-container-id-2 div.sk-toggleable__content.fitted {\n",
       "  /* fitted */\n",
       "  background-color: var(--sklearn-color-fitted-level-0);\n",
       "}\n",
       "\n",
       "#sk-container-id-2 div.sk-toggleable__content pre {\n",
       "  margin: 0.2em;\n",
       "  border-radius: 0.25em;\n",
       "  color: var(--sklearn-color-text);\n",
       "  /* unfitted */\n",
       "  background-color: var(--sklearn-color-unfitted-level-0);\n",
       "}\n",
       "\n",
       "#sk-container-id-2 div.sk-toggleable__content.fitted pre {\n",
       "  /* unfitted */\n",
       "  background-color: var(--sklearn-color-fitted-level-0);\n",
       "}\n",
       "\n",
       "#sk-container-id-2 input.sk-toggleable__control:checked~div.sk-toggleable__content {\n",
       "  /* Expand drop-down */\n",
       "  max-height: 200px;\n",
       "  max-width: 100%;\n",
       "  overflow: auto;\n",
       "}\n",
       "\n",
       "#sk-container-id-2 input.sk-toggleable__control:checked~label.sk-toggleable__label-arrow:before {\n",
       "  content: \"▾\";\n",
       "}\n",
       "\n",
       "/* Pipeline/ColumnTransformer-specific style */\n",
       "\n",
       "#sk-container-id-2 div.sk-label input.sk-toggleable__control:checked~label.sk-toggleable__label {\n",
       "  color: var(--sklearn-color-text);\n",
       "  background-color: var(--sklearn-color-unfitted-level-2);\n",
       "}\n",
       "\n",
       "#sk-container-id-2 div.sk-label.fitted input.sk-toggleable__control:checked~label.sk-toggleable__label {\n",
       "  background-color: var(--sklearn-color-fitted-level-2);\n",
       "}\n",
       "\n",
       "/* Estimator-specific style */\n",
       "\n",
       "/* Colorize estimator box */\n",
       "#sk-container-id-2 div.sk-estimator input.sk-toggleable__control:checked~label.sk-toggleable__label {\n",
       "  /* unfitted */\n",
       "  background-color: var(--sklearn-color-unfitted-level-2);\n",
       "}\n",
       "\n",
       "#sk-container-id-2 div.sk-estimator.fitted input.sk-toggleable__control:checked~label.sk-toggleable__label {\n",
       "  /* fitted */\n",
       "  background-color: var(--sklearn-color-fitted-level-2);\n",
       "}\n",
       "\n",
       "#sk-container-id-2 div.sk-label label.sk-toggleable__label,\n",
       "#sk-container-id-2 div.sk-label label {\n",
       "  /* The background is the default theme color */\n",
       "  color: var(--sklearn-color-text-on-default-background);\n",
       "}\n",
       "\n",
       "/* On hover, darken the color of the background */\n",
       "#sk-container-id-2 div.sk-label:hover label.sk-toggleable__label {\n",
       "  color: var(--sklearn-color-text);\n",
       "  background-color: var(--sklearn-color-unfitted-level-2);\n",
       "}\n",
       "\n",
       "/* Label box, darken color on hover, fitted */\n",
       "#sk-container-id-2 div.sk-label.fitted:hover label.sk-toggleable__label.fitted {\n",
       "  color: var(--sklearn-color-text);\n",
       "  background-color: var(--sklearn-color-fitted-level-2);\n",
       "}\n",
       "\n",
       "/* Estimator label */\n",
       "\n",
       "#sk-container-id-2 div.sk-label label {\n",
       "  font-family: monospace;\n",
       "  font-weight: bold;\n",
       "  display: inline-block;\n",
       "  line-height: 1.2em;\n",
       "}\n",
       "\n",
       "#sk-container-id-2 div.sk-label-container {\n",
       "  text-align: center;\n",
       "}\n",
       "\n",
       "/* Estimator-specific */\n",
       "#sk-container-id-2 div.sk-estimator {\n",
       "  font-family: monospace;\n",
       "  border: 1px dotted var(--sklearn-color-border-box);\n",
       "  border-radius: 0.25em;\n",
       "  box-sizing: border-box;\n",
       "  margin-bottom: 0.5em;\n",
       "  /* unfitted */\n",
       "  background-color: var(--sklearn-color-unfitted-level-0);\n",
       "}\n",
       "\n",
       "#sk-container-id-2 div.sk-estimator.fitted {\n",
       "  /* fitted */\n",
       "  background-color: var(--sklearn-color-fitted-level-0);\n",
       "}\n",
       "\n",
       "/* on hover */\n",
       "#sk-container-id-2 div.sk-estimator:hover {\n",
       "  /* unfitted */\n",
       "  background-color: var(--sklearn-color-unfitted-level-2);\n",
       "}\n",
       "\n",
       "#sk-container-id-2 div.sk-estimator.fitted:hover {\n",
       "  /* fitted */\n",
       "  background-color: var(--sklearn-color-fitted-level-2);\n",
       "}\n",
       "\n",
       "/* Specification for estimator info (e.g. \"i\" and \"?\") */\n",
       "\n",
       "/* Common style for \"i\" and \"?\" */\n",
       "\n",
       ".sk-estimator-doc-link,\n",
       "a:link.sk-estimator-doc-link,\n",
       "a:visited.sk-estimator-doc-link {\n",
       "  float: right;\n",
       "  font-size: smaller;\n",
       "  line-height: 1em;\n",
       "  font-family: monospace;\n",
       "  background-color: var(--sklearn-color-background);\n",
       "  border-radius: 1em;\n",
       "  height: 1em;\n",
       "  width: 1em;\n",
       "  text-decoration: none !important;\n",
       "  margin-left: 1ex;\n",
       "  /* unfitted */\n",
       "  border: var(--sklearn-color-unfitted-level-1) 1pt solid;\n",
       "  color: var(--sklearn-color-unfitted-level-1);\n",
       "}\n",
       "\n",
       ".sk-estimator-doc-link.fitted,\n",
       "a:link.sk-estimator-doc-link.fitted,\n",
       "a:visited.sk-estimator-doc-link.fitted {\n",
       "  /* fitted */\n",
       "  border: var(--sklearn-color-fitted-level-1) 1pt solid;\n",
       "  color: var(--sklearn-color-fitted-level-1);\n",
       "}\n",
       "\n",
       "/* On hover */\n",
       "div.sk-estimator:hover .sk-estimator-doc-link:hover,\n",
       ".sk-estimator-doc-link:hover,\n",
       "div.sk-label-container:hover .sk-estimator-doc-link:hover,\n",
       ".sk-estimator-doc-link:hover {\n",
       "  /* unfitted */\n",
       "  background-color: var(--sklearn-color-unfitted-level-3);\n",
       "  color: var(--sklearn-color-background);\n",
       "  text-decoration: none;\n",
       "}\n",
       "\n",
       "div.sk-estimator.fitted:hover .sk-estimator-doc-link.fitted:hover,\n",
       ".sk-estimator-doc-link.fitted:hover,\n",
       "div.sk-label-container:hover .sk-estimator-doc-link.fitted:hover,\n",
       ".sk-estimator-doc-link.fitted:hover {\n",
       "  /* fitted */\n",
       "  background-color: var(--sklearn-color-fitted-level-3);\n",
       "  color: var(--sklearn-color-background);\n",
       "  text-decoration: none;\n",
       "}\n",
       "\n",
       "/* Span, style for the box shown on hovering the info icon */\n",
       ".sk-estimator-doc-link span {\n",
       "  display: none;\n",
       "  z-index: 9999;\n",
       "  position: relative;\n",
       "  font-weight: normal;\n",
       "  right: .2ex;\n",
       "  padding: .5ex;\n",
       "  margin: .5ex;\n",
       "  width: min-content;\n",
       "  min-width: 20ex;\n",
       "  max-width: 50ex;\n",
       "  color: var(--sklearn-color-text);\n",
       "  box-shadow: 2pt 2pt 4pt #999;\n",
       "  /* unfitted */\n",
       "  background: var(--sklearn-color-unfitted-level-0);\n",
       "  border: .5pt solid var(--sklearn-color-unfitted-level-3);\n",
       "}\n",
       "\n",
       ".sk-estimator-doc-link.fitted span {\n",
       "  /* fitted */\n",
       "  background: var(--sklearn-color-fitted-level-0);\n",
       "  border: var(--sklearn-color-fitted-level-3);\n",
       "}\n",
       "\n",
       ".sk-estimator-doc-link:hover span {\n",
       "  display: block;\n",
       "}\n",
       "\n",
       "/* \"?\"-specific style due to the `<a>` HTML tag */\n",
       "\n",
       "#sk-container-id-2 a.estimator_doc_link {\n",
       "  float: right;\n",
       "  font-size: 1rem;\n",
       "  line-height: 1em;\n",
       "  font-family: monospace;\n",
       "  background-color: var(--sklearn-color-background);\n",
       "  border-radius: 1rem;\n",
       "  height: 1rem;\n",
       "  width: 1rem;\n",
       "  text-decoration: none;\n",
       "  /* unfitted */\n",
       "  color: var(--sklearn-color-unfitted-level-1);\n",
       "  border: var(--sklearn-color-unfitted-level-1) 1pt solid;\n",
       "}\n",
       "\n",
       "#sk-container-id-2 a.estimator_doc_link.fitted {\n",
       "  /* fitted */\n",
       "  border: var(--sklearn-color-fitted-level-1) 1pt solid;\n",
       "  color: var(--sklearn-color-fitted-level-1);\n",
       "}\n",
       "\n",
       "/* On hover */\n",
       "#sk-container-id-2 a.estimator_doc_link:hover {\n",
       "  /* unfitted */\n",
       "  background-color: var(--sklearn-color-unfitted-level-3);\n",
       "  color: var(--sklearn-color-background);\n",
       "  text-decoration: none;\n",
       "}\n",
       "\n",
       "#sk-container-id-2 a.estimator_doc_link.fitted:hover {\n",
       "  /* fitted */\n",
       "  background-color: var(--sklearn-color-fitted-level-3);\n",
       "}\n",
       "</style><div id=\"sk-container-id-2\" class=\"sk-top-container\"><div class=\"sk-text-repr-fallback\"><pre>RandomForestClassifier(max_depth=11, n_estimators=1540)</pre><b>In a Jupyter environment, please rerun this cell to show the HTML representation or trust the notebook. <br />On GitHub, the HTML representation is unable to render, please try loading this page with nbviewer.org.</b></div><div class=\"sk-container\" hidden><div class=\"sk-item\"><div class=\"sk-estimator fitted sk-toggleable\"><input class=\"sk-toggleable__control sk-hidden--visually\" id=\"sk-estimator-id-2\" type=\"checkbox\" checked><label for=\"sk-estimator-id-2\" class=\"sk-toggleable__label fitted sk-toggleable__label-arrow fitted\">&nbsp;&nbsp;RandomForestClassifier<a class=\"sk-estimator-doc-link fitted\" rel=\"noreferrer\" target=\"_blank\" href=\"https://scikit-learn.org/1.5/modules/generated/sklearn.ensemble.RandomForestClassifier.html\">?<span>Documentation for RandomForestClassifier</span></a><span class=\"sk-estimator-doc-link fitted\">i<span>Fitted</span></span></label><div class=\"sk-toggleable__content fitted\"><pre>RandomForestClassifier(max_depth=11, n_estimators=1540)</pre></div> </div></div></div></div>"
      ],
      "text/plain": [
       "RandomForestClassifier(max_depth=11, n_estimators=1540)"
      ]
     },
     "execution_count": 31,
     "metadata": {},
     "output_type": "execute_result"
    }
   ],
   "source": [
    "rf=RandomForestClassifier(n_estimators=1540,max_depth=11)\n",
    "rf.fit(X_train,y_train)"
   ]
  },
  {
   "cell_type": "code",
   "execution_count": 32,
   "id": "4e3309ae-6382-4ae7-a871-7f4b3cbc18cc",
   "metadata": {},
   "outputs": [
    {
     "name": "stdout",
     "output_type": "stream",
     "text": [
      "[[86 13]\n",
      " [24 31]]\n",
      "0.7597402597402597\n",
      "              precision    recall  f1-score   support\n",
      "\n",
      "           0       0.78      0.87      0.82        99\n",
      "           1       0.70      0.56      0.63        55\n",
      "\n",
      "    accuracy                           0.76       154\n",
      "   macro avg       0.74      0.72      0.72       154\n",
      "weighted avg       0.75      0.76      0.75       154\n",
      "\n"
     ]
    }
   ],
   "source": [
    "y_pred=rf.predict(X_test)\n",
    "print(confusion_matrix(y_test,y_pred))\n",
    "print(accuracy_score(y_test,y_pred))\n",
    "print(classification_report(y_test,y_pred))"
   ]
  },
  {
   "cell_type": "code",
   "execution_count": null,
   "id": "e93625e1-0932-459e-8077-8ddc5bfab3c0",
   "metadata": {},
   "outputs": [],
   "source": []
  }
 ],
 "metadata": {
  "kernelspec": {
   "display_name": "Python 3 (ipykernel)",
   "language": "python",
   "name": "python3"
  },
  "language_info": {
   "codemirror_mode": {
    "name": "ipython",
    "version": 3
   },
   "file_extension": ".py",
   "mimetype": "text/x-python",
   "name": "python",
   "nbconvert_exporter": "python",
   "pygments_lexer": "ipython3",
   "version": "3.9.13"
  }
 },
 "nbformat": 4,
 "nbformat_minor": 5
}
